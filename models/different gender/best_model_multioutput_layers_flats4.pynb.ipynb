{
 "cells": [
  {
   "cell_type": "code",
   "execution_count": 1,
   "id": "6e316b0d",
   "metadata": {},
   "outputs": [],
   "source": [
    "import pandas as pd\n",
    "import os\n",
    "from PIL import Image\n",
    "import matplotlib.pyplot as plt\n",
    "from tensorflow.keras.preprocessing.image import load_img, img_to_array\n",
    "from tensorflow.keras.utils import to_categorical\n",
    "from sklearn.model_selection import train_test_split\n",
    "import numpy as np\n",
    "from tensorflow.keras.applications import MobileNetV2\n",
    "from tensorflow.keras.models import Model\n",
    "from tensorflow.keras.layers import Dense, GlobalAveragePooling2D, Dropout, Input, Concatenate\n",
    "from tensorflow.keras.optimizers import Adam\n",
    "import plotly.graph_objects as go\n",
    "from tensorflow.keras.callbacks import EarlyStopping\n",
    "from sklearn.metrics import classification_report\n",
    "from tensorflow import random\n",
    "from sklearn.metrics import confusion_matrix\n",
    "from sklearn.metrics import ConfusionMatrixDisplay\n",
    "import json\n",
    "from tensorflow.keras.applications.mobilenet_v2 import preprocess_input\n"
   ]
  },
  {
   "cell_type": "code",
   "execution_count": 2,
   "id": "69d821f6",
   "metadata": {},
   "outputs": [],
   "source": [
    "seed = 42\n",
    "random.set_seed(seed)\n",
    "np.random.seed(seed)\n"
   ]
  },
  {
   "cell_type": "code",
   "execution_count": 3,
   "id": "f68112a9",
   "metadata": {},
   "outputs": [
    {
     "data": {
      "text/html": [
       "<div>\n",
       "<style scoped>\n",
       "    .dataframe tbody tr th:only-of-type {\n",
       "        vertical-align: middle;\n",
       "    }\n",
       "\n",
       "    .dataframe tbody tr th {\n",
       "        vertical-align: top;\n",
       "    }\n",
       "\n",
       "    .dataframe thead th {\n",
       "        text-align: right;\n",
       "    }\n",
       "</style>\n",
       "<table border=\"1\" class=\"dataframe\">\n",
       "  <thead>\n",
       "    <tr style=\"text-align: right;\">\n",
       "      <th></th>\n",
       "      <th>id</th>\n",
       "      <th>gender</th>\n",
       "      <th>masterCategory</th>\n",
       "      <th>subCategory</th>\n",
       "      <th>articleType</th>\n",
       "      <th>baseColour</th>\n",
       "      <th>season</th>\n",
       "      <th>year</th>\n",
       "      <th>usage</th>\n",
       "      <th>productDisplayName</th>\n",
       "    </tr>\n",
       "  </thead>\n",
       "  <tbody>\n",
       "    <tr>\n",
       "      <th>0</th>\n",
       "      <td>15970</td>\n",
       "      <td>Men</td>\n",
       "      <td>Apparel</td>\n",
       "      <td>Topwear</td>\n",
       "      <td>Shirts</td>\n",
       "      <td>Navy Blue</td>\n",
       "      <td>Fall</td>\n",
       "      <td>2011.0</td>\n",
       "      <td>Casual</td>\n",
       "      <td>Turtle Check Men Navy Blue Shirt</td>\n",
       "    </tr>\n",
       "    <tr>\n",
       "      <th>1</th>\n",
       "      <td>39386</td>\n",
       "      <td>Men</td>\n",
       "      <td>Apparel</td>\n",
       "      <td>Bottomwear</td>\n",
       "      <td>Jeans</td>\n",
       "      <td>Blue</td>\n",
       "      <td>Summer</td>\n",
       "      <td>2012.0</td>\n",
       "      <td>Casual</td>\n",
       "      <td>Peter England Men Party Blue Jeans</td>\n",
       "    </tr>\n",
       "    <tr>\n",
       "      <th>2</th>\n",
       "      <td>59263</td>\n",
       "      <td>Women</td>\n",
       "      <td>Accessories</td>\n",
       "      <td>Watches</td>\n",
       "      <td>Watches</td>\n",
       "      <td>Silver</td>\n",
       "      <td>Winter</td>\n",
       "      <td>2016.0</td>\n",
       "      <td>Casual</td>\n",
       "      <td>Titan Women Silver Watch</td>\n",
       "    </tr>\n",
       "    <tr>\n",
       "      <th>3</th>\n",
       "      <td>21379</td>\n",
       "      <td>Men</td>\n",
       "      <td>Apparel</td>\n",
       "      <td>Bottomwear</td>\n",
       "      <td>Track Pants</td>\n",
       "      <td>Black</td>\n",
       "      <td>Fall</td>\n",
       "      <td>2011.0</td>\n",
       "      <td>Casual</td>\n",
       "      <td>Manchester United Men Solid Black Track Pants</td>\n",
       "    </tr>\n",
       "    <tr>\n",
       "      <th>4</th>\n",
       "      <td>53759</td>\n",
       "      <td>Men</td>\n",
       "      <td>Apparel</td>\n",
       "      <td>Topwear</td>\n",
       "      <td>Tshirts</td>\n",
       "      <td>Grey</td>\n",
       "      <td>Summer</td>\n",
       "      <td>2012.0</td>\n",
       "      <td>Casual</td>\n",
       "      <td>Puma Men Grey T-shirt</td>\n",
       "    </tr>\n",
       "  </tbody>\n",
       "</table>\n",
       "</div>"
      ],
      "text/plain": [
       "      id gender masterCategory subCategory  articleType baseColour  season  \\\n",
       "0  15970    Men        Apparel     Topwear       Shirts  Navy Blue    Fall   \n",
       "1  39386    Men        Apparel  Bottomwear        Jeans       Blue  Summer   \n",
       "2  59263  Women    Accessories     Watches      Watches     Silver  Winter   \n",
       "3  21379    Men        Apparel  Bottomwear  Track Pants      Black    Fall   \n",
       "4  53759    Men        Apparel     Topwear      Tshirts       Grey  Summer   \n",
       "\n",
       "     year   usage                             productDisplayName  \n",
       "0  2011.0  Casual               Turtle Check Men Navy Blue Shirt  \n",
       "1  2012.0  Casual             Peter England Men Party Blue Jeans  \n",
       "2  2016.0  Casual                       Titan Women Silver Watch  \n",
       "3  2011.0  Casual  Manchester United Men Solid Black Track Pants  \n",
       "4  2012.0  Casual                          Puma Men Grey T-shirt  "
      ]
     },
     "execution_count": 3,
     "metadata": {},
     "output_type": "execute_result"
    }
   ],
   "source": [
    "styles_path = '../styles.csv'\n",
    "\n",
    "df = pd.read_csv(styles_path, on_bad_lines='skip')\n",
    "\n",
    "df.head()"
   ]
  },
  {
   "cell_type": "code",
   "execution_count": 4,
   "id": "bd23aeac",
   "metadata": {},
   "outputs": [
    {
     "name": "stdout",
     "output_type": "stream",
     "text": [
      "articleType\n",
      "Tshirts                      7067\n",
      "Shirts                       3217\n",
      "Casual Shoes                 2845\n",
      "Watches                      2542\n",
      "Sports Shoes                 2036\n",
      "Kurtas                       1844\n",
      "Tops                         1762\n",
      "Handbags                     1759\n",
      "Heels                        1323\n",
      "Sunglasses                   1073\n",
      "Wallets                       936\n",
      "Flip Flops                    914\n",
      "Sandals                       897\n",
      "Briefs                        849\n",
      "Belts                         813\n",
      "Backpacks                     724\n",
      "Socks                         686\n",
      "Formal Shoes                  637\n",
      "Perfume and Body Mist         613\n",
      "Jeans                         609\n",
      "Shorts                        547\n",
      "Trousers                      530\n",
      "Flats                         500\n",
      "Bra                           477\n",
      "Dresses                       464\n",
      "Sarees                        427\n",
      "Earrings                      416\n",
      "Deodorant                     347\n",
      "Nail Polish                   329\n",
      "Lipstick                      315\n",
      "Track Pants                   304\n",
      "Clutches                      290\n",
      "Sweatshirts                   285\n",
      "Caps                          283\n",
      "Sweaters                      277\n",
      "Ties                          263\n",
      "Jackets                       258\n",
      "Innerwear Vests               242\n",
      "Kurtis                        234\n",
      "Tunics                        229\n",
      "Nightdress                    189\n",
      "Leggings                      177\n",
      "Pendant                       176\n",
      "Capris                        175\n",
      "Necklace and Chains           160\n",
      "Lip Gloss                     144\n",
      "Night suits                   141\n",
      "Trunk                         140\n",
      "Skirts                        128\n",
      "Scarves                       119\n",
      "Ring                          118\n",
      "Dupatta                       116\n",
      "Cufflinks                     106\n",
      "Kajal and Eyeliner            102\n",
      "Accessory Gift Set             97\n",
      "Kurta Sets                     94\n",
      "Free Gifts                     91\n",
      "Stoles                         90\n",
      "Duffel Bag                     88\n",
      "Bangle                         85\n",
      "Laptop Bag                     82\n",
      "Foundation and Primer          76\n",
      "Sports Sandals                 67\n",
      "Bracelet                       66\n",
      "Lounge Pants                   61\n",
      "Face Moisturisers              61\n",
      "Jewellery Set                  58\n",
      "Fragrance Gift Set             57\n",
      "Highlighter and Blush          53\n",
      "Boxers                         52\n",
      "Compact                        49\n",
      "Lip Liner                      48\n",
      "Mobile Pouch                   47\n",
      "Messenger Bag                  44\n",
      "Eyeshadow                      42\n",
      "Suspenders                     40\n",
      "Camisoles                      39\n",
      "Patiala                        38\n",
      "Mufflers                       38\n",
      "Lounge Shorts                  34\n",
      "Jeggings                       34\n",
      "Salwar                         32\n",
      "Stockings                      32\n",
      "Churidar                       30\n",
      "Tracksuits                     29\n",
      "Face Wash and Cleanser         28\n",
      "Sunscreen                      25\n",
      "Shoe Accessories               23\n",
      "Gloves                         20\n",
      "Bath Robe                      20\n",
      "Hair Colour                    19\n",
      "Rain Jacket                    18\n",
      "Swimwear                       17\n",
      "Waist Pouch                    17\n",
      "Lip Care                       16\n",
      "Jumpsuit                       16\n",
      "Travel Accessory               16\n",
      "Baby Dolls                     16\n",
      "Waistcoat                      15\n",
      "Mascara                        13\n",
      "Basketballs                    13\n",
      "Rompers                        12\n",
      "Booties                        12\n",
      "Mask and Peel                  12\n",
      "Water Bottle                   11\n",
      "Concealer                      11\n",
      "Rucksacks                      11\n",
      "Shapewear                       9\n",
      "Tights                          9\n",
      "Footballs                       8\n",
      "Clothing Set                    8\n",
      "Blazers                         8\n",
      "Salwar and Dupatta              7\n",
      "Wristbands                      7\n",
      "Headband                        7\n",
      "Umbrellas                       6\n",
      "Shrug                           6\n",
      "Eye Cream                       6\n",
      "Body Lotion                     6\n",
      "Nail Essentials                 6\n",
      "Face Scrub and Exfoliator       5\n",
      "Nehru Jackets                   5\n",
      "Toner                           5\n",
      "Makeup Remover                  4\n",
      "Robe                            4\n",
      "Beauty Accessory                4\n",
      "Lehenga Choli                   4\n",
      "Lip Plumper                     4\n",
      "Hat                             3\n",
      "Trolley Bag                     3\n",
      "Tablet Sleeve                   3\n",
      "Lounge Tshirts                  3\n",
      "Key chain                       2\n",
      "Ties and Cufflinks              2\n",
      "Face Serum and Gel              2\n",
      "Rain Trousers                   2\n",
      "Hair Accessory                  1\n",
      "Cushion Covers                  1\n",
      "Shoe Laces                      1\n",
      "Mens Grooming Kit               1\n",
      "Body Wash and Scrub             1\n",
      "Suits                           1\n",
      "Ipad                            1\n",
      "Name: count, dtype: int64\n"
     ]
    }
   ],
   "source": [
    "category_counts = df['articleType'].value_counts()\n",
    "\n",
    "pd.set_option('display.max_rows', None) \n",
    "print(category_counts)"
   ]
  },
  {
   "cell_type": "code",
   "execution_count": 5,
   "id": "b65f9804",
   "metadata": {},
   "outputs": [
    {
     "name": "stdout",
     "output_type": "stream",
     "text": [
      "Zmapowane klasy gender:\n",
      "gender\n",
      "Men       22147\n",
      "Women     18631\n",
      "Unisex     2161\n",
      "Name: count, dtype: int64\n"
     ]
    }
   ],
   "source": [
    "# WARIANTY KLAS GENDER\n",
    "variant = 4  # Zmień na 1, 2, 3 lub 4\n",
    "\n",
    "if variant == 1:\n",
    "    # Wariant 1: tylko Woman i Man\n",
    "    df = df[df['gender'].isin(['Men', 'Women'])]\n",
    "\n",
    "elif variant == 2:\n",
    "    # Wariant 2: Woman, Man, Kids (boys, girls), Unisex\n",
    "    def map_gender(g):\n",
    "        if g in ['Boys', 'Girls']:\n",
    "            return 'Kids'\n",
    "        return g\n",
    "    df['gender'] = df['gender'].apply(map_gender)\n",
    "    df = df[df['gender'].isin(['Men', 'Women', 'Kids', 'Unisex'])]\n",
    "\n",
    "elif variant == 3:\n",
    "    # Wariant 3: Woman, Man, Other (boys, girls, unisex)\n",
    "    def map_gender(g):\n",
    "        if g in ['Boys', 'Girls', 'Unisex']:\n",
    "            return 'Other'\n",
    "        return g\n",
    "    df['gender'] = df['gender'].apply(map_gender)\n",
    "    df = df[df['gender'].isin(['Men', 'Women', 'Other'])]\n",
    "\n",
    "elif variant == 4:\n",
    "    # Wariant 4: Woman, Man, Unisex\n",
    "    df = df[df['gender'].isin(['Men', 'Women', 'Unisex'])]\n",
    "\n",
    "# Sprawdź nowe klasy\n",
    "gender_counts = df['gender'].value_counts()\n",
    "\n",
    "pd.set_option('display.max_rows', None) \n",
    "print(\"Zmapowane klasy gender:\")\n",
    "print(gender_counts)\n"
   ]
  },
  {
   "cell_type": "code",
   "execution_count": 6,
   "id": "c7e68d2e",
   "metadata": {},
   "outputs": [],
   "source": [
    "# ucinamy zbiór na 416 (zaleca sie 500)"
   ]
  },
  {
   "cell_type": "code",
   "execution_count": 7,
   "id": "109b7143",
   "metadata": {},
   "outputs": [
    {
     "data": {
      "text/plain": [
       "id                      0\n",
       "gender                  0\n",
       "masterCategory          0\n",
       "subCategory             0\n",
       "articleType             0\n",
       "baseColour             15\n",
       "season                 21\n",
       "year                    1\n",
       "usage                 317\n",
       "productDisplayName      7\n",
       "dtype: int64"
      ]
     },
     "execution_count": 7,
     "metadata": {},
     "output_type": "execute_result"
    }
   ],
   "source": [
    "df.isnull().sum()\n"
   ]
  },
  {
   "cell_type": "code",
   "execution_count": 8,
   "id": "bb4fbf6c",
   "metadata": {},
   "outputs": [],
   "source": [
    "df.isnull().sum()\n",
    "df.dropna(inplace=True)"
   ]
  },
  {
   "cell_type": "code",
   "execution_count": 9,
   "id": "930e2a94",
   "metadata": {},
   "outputs": [
    {
     "data": {
      "text/plain": [
       "id                    0\n",
       "gender                0\n",
       "masterCategory        0\n",
       "subCategory           0\n",
       "articleType           0\n",
       "baseColour            0\n",
       "season                0\n",
       "year                  0\n",
       "usage                 0\n",
       "productDisplayName    0\n",
       "dtype: int64"
      ]
     },
     "execution_count": 9,
     "metadata": {},
     "output_type": "execute_result"
    }
   ],
   "source": [
    "df.isnull().sum()\n"
   ]
  },
  {
   "cell_type": "code",
   "execution_count": 10,
   "id": "13a368ec",
   "metadata": {},
   "outputs": [],
   "source": [
    "images_path = '../images/'\n",
    "\n",
    "df['image_path'] = df['id'].apply(lambda x: os.path.join(images_path, f\"{x}.jpg\"))\n",
    "df = df[df['image_path'].apply(os.path.exists)].copy() "
   ]
  },
  {
   "cell_type": "code",
   "execution_count": 11,
   "id": "5c33e942",
   "metadata": {},
   "outputs": [
    {
     "data": {
      "text/html": [
       "<div>\n",
       "<style scoped>\n",
       "    .dataframe tbody tr th:only-of-type {\n",
       "        vertical-align: middle;\n",
       "    }\n",
       "\n",
       "    .dataframe tbody tr th {\n",
       "        vertical-align: top;\n",
       "    }\n",
       "\n",
       "    .dataframe thead th {\n",
       "        text-align: right;\n",
       "    }\n",
       "</style>\n",
       "<table border=\"1\" class=\"dataframe\">\n",
       "  <thead>\n",
       "    <tr style=\"text-align: right;\">\n",
       "      <th></th>\n",
       "      <th>id</th>\n",
       "      <th>gender</th>\n",
       "      <th>masterCategory</th>\n",
       "      <th>subCategory</th>\n",
       "      <th>articleType</th>\n",
       "      <th>baseColour</th>\n",
       "      <th>season</th>\n",
       "      <th>year</th>\n",
       "      <th>usage</th>\n",
       "      <th>productDisplayName</th>\n",
       "      <th>image_path</th>\n",
       "    </tr>\n",
       "  </thead>\n",
       "  <tbody>\n",
       "    <tr>\n",
       "      <th>0</th>\n",
       "      <td>15970</td>\n",
       "      <td>Men</td>\n",
       "      <td>Apparel</td>\n",
       "      <td>Topwear</td>\n",
       "      <td>Shirts</td>\n",
       "      <td>Navy Blue</td>\n",
       "      <td>Fall</td>\n",
       "      <td>2011.0</td>\n",
       "      <td>Casual</td>\n",
       "      <td>Turtle Check Men Navy Blue Shirt</td>\n",
       "      <td>../images/15970.jpg</td>\n",
       "    </tr>\n",
       "    <tr>\n",
       "      <th>1</th>\n",
       "      <td>39386</td>\n",
       "      <td>Men</td>\n",
       "      <td>Apparel</td>\n",
       "      <td>Bottomwear</td>\n",
       "      <td>Jeans</td>\n",
       "      <td>Blue</td>\n",
       "      <td>Summer</td>\n",
       "      <td>2012.0</td>\n",
       "      <td>Casual</td>\n",
       "      <td>Peter England Men Party Blue Jeans</td>\n",
       "      <td>../images/39386.jpg</td>\n",
       "    </tr>\n",
       "    <tr>\n",
       "      <th>2</th>\n",
       "      <td>59263</td>\n",
       "      <td>Women</td>\n",
       "      <td>Accessories</td>\n",
       "      <td>Watches</td>\n",
       "      <td>Watches</td>\n",
       "      <td>Silver</td>\n",
       "      <td>Winter</td>\n",
       "      <td>2016.0</td>\n",
       "      <td>Casual</td>\n",
       "      <td>Titan Women Silver Watch</td>\n",
       "      <td>../images/59263.jpg</td>\n",
       "    </tr>\n",
       "    <tr>\n",
       "      <th>3</th>\n",
       "      <td>21379</td>\n",
       "      <td>Men</td>\n",
       "      <td>Apparel</td>\n",
       "      <td>Bottomwear</td>\n",
       "      <td>Track Pants</td>\n",
       "      <td>Black</td>\n",
       "      <td>Fall</td>\n",
       "      <td>2011.0</td>\n",
       "      <td>Casual</td>\n",
       "      <td>Manchester United Men Solid Black Track Pants</td>\n",
       "      <td>../images/21379.jpg</td>\n",
       "    </tr>\n",
       "    <tr>\n",
       "      <th>4</th>\n",
       "      <td>53759</td>\n",
       "      <td>Men</td>\n",
       "      <td>Apparel</td>\n",
       "      <td>Topwear</td>\n",
       "      <td>Tshirts</td>\n",
       "      <td>Grey</td>\n",
       "      <td>Summer</td>\n",
       "      <td>2012.0</td>\n",
       "      <td>Casual</td>\n",
       "      <td>Puma Men Grey T-shirt</td>\n",
       "      <td>../images/53759.jpg</td>\n",
       "    </tr>\n",
       "  </tbody>\n",
       "</table>\n",
       "</div>"
      ],
      "text/plain": [
       "      id gender masterCategory subCategory  articleType baseColour  season  \\\n",
       "0  15970    Men        Apparel     Topwear       Shirts  Navy Blue    Fall   \n",
       "1  39386    Men        Apparel  Bottomwear        Jeans       Blue  Summer   \n",
       "2  59263  Women    Accessories     Watches      Watches     Silver  Winter   \n",
       "3  21379    Men        Apparel  Bottomwear  Track Pants      Black    Fall   \n",
       "4  53759    Men        Apparel     Topwear      Tshirts       Grey  Summer   \n",
       "\n",
       "     year   usage                             productDisplayName  \\\n",
       "0  2011.0  Casual               Turtle Check Men Navy Blue Shirt   \n",
       "1  2012.0  Casual             Peter England Men Party Blue Jeans   \n",
       "2  2016.0  Casual                       Titan Women Silver Watch   \n",
       "3  2011.0  Casual  Manchester United Men Solid Black Track Pants   \n",
       "4  2012.0  Casual                          Puma Men Grey T-shirt   \n",
       "\n",
       "            image_path  \n",
       "0  ../images/15970.jpg  \n",
       "1  ../images/39386.jpg  \n",
       "2  ../images/59263.jpg  \n",
       "3  ../images/21379.jpg  \n",
       "4  ../images/53759.jpg  "
      ]
     },
     "execution_count": 11,
     "metadata": {},
     "output_type": "execute_result"
    }
   ],
   "source": [
    "df.head()"
   ]
  },
  {
   "cell_type": "code",
   "execution_count": 12,
   "id": "5a11c36d",
   "metadata": {},
   "outputs": [
    {
     "data": {
      "image/png": "[encoded data removed]",
      "text/plain": [
       "<Figure size 640x480 with 1 Axes>"
      ]
     },
     "metadata": {},
     "output_type": "display_data"
    }
   ],
   "source": [
    "first_image_path = df['image_path'].iloc[0]\n",
    "\n",
    "image = Image.open(first_image_path)\n",
    "plt.imshow(image)\n",
    "plt.axis('off')\n",
    "plt.show()"
   ]
  },
  {
   "cell_type": "code",
   "execution_count": 13,
   "id": "2316afcb",
   "metadata": {},
   "outputs": [
    {
     "name": "stdout",
     "output_type": "stream",
     "text": [
      "Tshirts: 6428\n",
      "Shirts: 3133\n",
      "Casual Shoes: 2807\n",
      "Watches: 2518\n",
      "Sports Shoes: 2013\n",
      "Kurtas: 1839\n",
      "Handbags: 1759\n",
      "Tops: 1533\n",
      "Heels: 1323\n",
      "Sunglasses: 1070\n",
      "Wallets: 928\n",
      "Flip Flops: 891\n",
      "Briefs: 847\n",
      "Sandals: 845\n",
      "Belts: 813\n",
      "Backpacks: 722\n",
      "Socks: 685\n",
      "Formal Shoes: 637\n",
      "Perfume and Body Mist: 603\n",
      "Jeans: 558\n",
      "Trousers: 523\n",
      "Flats: 500\n",
      "Bra: 477\n",
      "Shorts: 456\n",
      "Sarees: 427\n",
      "Earrings: 415\n"
     ]
    }
   ],
   "source": [
    "category_counts = df['articleType'].value_counts()\n",
    "\n",
    "min_count = 400\n",
    "\n",
    "# filtered_categories = category_counts[category_counts >= min_count].index\n",
    "filtered_categories = category_counts[category_counts > min_count].index\n",
    "\n",
    "df = df[df['articleType'].isin(filtered_categories)]\n",
    "\n",
    "category_counts = df['articleType'].value_counts()\n",
    "\n",
    "for category, count in category_counts.items():\n",
    "    print(f\"{category}: {count}\")"
   ]
  },
  {
   "cell_type": "code",
   "execution_count": 14,
   "id": "16372104",
   "metadata": {},
   "outputs": [
    {
     "data": {
      "text/plain": [
       "id                    0\n",
       "gender                0\n",
       "masterCategory        0\n",
       "subCategory           0\n",
       "articleType           0\n",
       "baseColour            0\n",
       "season                0\n",
       "year                  0\n",
       "usage                 0\n",
       "productDisplayName    0\n",
       "image_path            0\n",
       "dtype: int64"
      ]
     },
     "execution_count": 14,
     "metadata": {},
     "output_type": "execute_result"
    }
   ],
   "source": [
    "df.isnull().sum()\n",
    "df.dropna(inplace=True)\n",
    "df.isnull().sum()\n"
   ]
  },
  {
   "cell_type": "code",
   "execution_count": 15,
   "id": "ec114807",
   "metadata": {},
   "outputs": [],
   "source": [
    "df.to_csv('../backend/dataframe.csv', index=False)"
   ]
  },
  {
   "cell_type": "code",
   "execution_count": 16,
   "id": "0165cf79",
   "metadata": {},
   "outputs": [
    {
     "data": {
      "text/html": [
       "<div>\n",
       "<style scoped>\n",
       "    .dataframe tbody tr th:only-of-type {\n",
       "        vertical-align: middle;\n",
       "    }\n",
       "\n",
       "    .dataframe tbody tr th {\n",
       "        vertical-align: top;\n",
       "    }\n",
       "\n",
       "    .dataframe thead th {\n",
       "        text-align: right;\n",
       "    }\n",
       "</style>\n",
       "<table border=\"1\" class=\"dataframe\">\n",
       "  <thead>\n",
       "    <tr style=\"text-align: right;\">\n",
       "      <th></th>\n",
       "      <th>id</th>\n",
       "      <th>gender</th>\n",
       "      <th>masterCategory</th>\n",
       "      <th>subCategory</th>\n",
       "      <th>articleType</th>\n",
       "      <th>baseColour</th>\n",
       "      <th>season</th>\n",
       "      <th>year</th>\n",
       "      <th>usage</th>\n",
       "      <th>productDisplayName</th>\n",
       "      <th>image_path</th>\n",
       "    </tr>\n",
       "  </thead>\n",
       "  <tbody>\n",
       "    <tr>\n",
       "      <th>0</th>\n",
       "      <td>15970</td>\n",
       "      <td>Men</td>\n",
       "      <td>Apparel</td>\n",
       "      <td>Topwear</td>\n",
       "      <td>Shirts</td>\n",
       "      <td>Navy Blue</td>\n",
       "      <td>Fall</td>\n",
       "      <td>2011.0</td>\n",
       "      <td>Casual</td>\n",
       "      <td>Turtle Check Men Navy Blue Shirt</td>\n",
       "      <td>../images/15970.jpg</td>\n",
       "    </tr>\n",
       "    <tr>\n",
       "      <th>1</th>\n",
       "      <td>39386</td>\n",
       "      <td>Men</td>\n",
       "      <td>Apparel</td>\n",
       "      <td>Bottomwear</td>\n",
       "      <td>Jeans</td>\n",
       "      <td>Blue</td>\n",
       "      <td>Summer</td>\n",
       "      <td>2012.0</td>\n",
       "      <td>Casual</td>\n",
       "      <td>Peter England Men Party Blue Jeans</td>\n",
       "      <td>../images/39386.jpg</td>\n",
       "    </tr>\n",
       "    <tr>\n",
       "      <th>2</th>\n",
       "      <td>59263</td>\n",
       "      <td>Women</td>\n",
       "      <td>Accessories</td>\n",
       "      <td>Watches</td>\n",
       "      <td>Watches</td>\n",
       "      <td>Silver</td>\n",
       "      <td>Winter</td>\n",
       "      <td>2016.0</td>\n",
       "      <td>Casual</td>\n",
       "      <td>Titan Women Silver Watch</td>\n",
       "      <td>../images/59263.jpg</td>\n",
       "    </tr>\n",
       "    <tr>\n",
       "      <th>4</th>\n",
       "      <td>53759</td>\n",
       "      <td>Men</td>\n",
       "      <td>Apparel</td>\n",
       "      <td>Topwear</td>\n",
       "      <td>Tshirts</td>\n",
       "      <td>Grey</td>\n",
       "      <td>Summer</td>\n",
       "      <td>2012.0</td>\n",
       "      <td>Casual</td>\n",
       "      <td>Puma Men Grey T-shirt</td>\n",
       "      <td>../images/53759.jpg</td>\n",
       "    </tr>\n",
       "    <tr>\n",
       "      <th>5</th>\n",
       "      <td>1855</td>\n",
       "      <td>Men</td>\n",
       "      <td>Apparel</td>\n",
       "      <td>Topwear</td>\n",
       "      <td>Tshirts</td>\n",
       "      <td>Grey</td>\n",
       "      <td>Summer</td>\n",
       "      <td>2011.0</td>\n",
       "      <td>Casual</td>\n",
       "      <td>Inkfruit Mens Chain Reaction T-shirt</td>\n",
       "      <td>../images/1855.jpg</td>\n",
       "    </tr>\n",
       "  </tbody>\n",
       "</table>\n",
       "</div>"
      ],
      "text/plain": [
       "      id gender masterCategory subCategory articleType baseColour  season  \\\n",
       "0  15970    Men        Apparel     Topwear      Shirts  Navy Blue    Fall   \n",
       "1  39386    Men        Apparel  Bottomwear       Jeans       Blue  Summer   \n",
       "2  59263  Women    Accessories     Watches     Watches     Silver  Winter   \n",
       "4  53759    Men        Apparel     Topwear     Tshirts       Grey  Summer   \n",
       "5   1855    Men        Apparel     Topwear     Tshirts       Grey  Summer   \n",
       "\n",
       "     year   usage                    productDisplayName           image_path  \n",
       "0  2011.0  Casual      Turtle Check Men Navy Blue Shirt  ../images/15970.jpg  \n",
       "1  2012.0  Casual    Peter England Men Party Blue Jeans  ../images/39386.jpg  \n",
       "2  2016.0  Casual              Titan Women Silver Watch  ../images/59263.jpg  \n",
       "4  2012.0  Casual                 Puma Men Grey T-shirt  ../images/53759.jpg  \n",
       "5  2011.0  Casual  Inkfruit Mens Chain Reaction T-shirt   ../images/1855.jpg  "
      ]
     },
     "execution_count": 16,
     "metadata": {},
     "output_type": "execute_result"
    }
   ],
   "source": [
    "df.head(5)"
   ]
  },
  {
   "cell_type": "code",
   "execution_count": 17,
   "id": "fe350bb7",
   "metadata": {},
   "outputs": [],
   "source": [
    "# preprocessing obrazków:\n",
    "\n",
    "# def preprocess_image(image_path, target_size=(128, 128)):\n",
    "#     img = load_img(image_path, target_size=target_size)\n",
    "#     img_array = img_to_array(img) / 255.0  # Normalizacja\n",
    "#     return img_array\n"
   ]
  },
  {
   "cell_type": "code",
   "execution_count": 18,
   "id": "7446c93f",
   "metadata": {},
   "outputs": [],
   "source": [
    "def preprocess_image(image_path, target_size=(128, 128)):\n",
    "    img = load_img(image_path, target_size=target_size)\n",
    "    img_array = img_to_array(img)\n",
    "    return preprocess_input(img_array)\n",
    "\n",
    "image_arrays = []\n",
    "valid_indices = []\n",
    "\n",
    "for idx, path in enumerate(df[\"image_path\"]):\n",
    "    img_array = preprocess_image(path)\n",
    "    if img_array is not None:\n",
    "        image_arrays.append(img_array)\n",
    "        valid_indices.append(idx)\n",
    "\n",
    "# Przefiltruj DataFrame by odpowiadał poprawnym obrazom\n",
    "df_clean = df.iloc[valid_indices].reset_index(drop=True)\n",
    "images = np.array(image_arrays)"
   ]
  },
  {
   "cell_type": "code",
   "execution_count": 19,
   "id": "e39adcfa",
   "metadata": {},
   "outputs": [],
   "source": [
    "from sklearn.preprocessing import OneHotEncoder, LabelEncoder"
   ]
  },
  {
   "cell_type": "code",
   "execution_count": 20,
   "id": "2eebb959",
   "metadata": {},
   "outputs": [],
   "source": [
    "gender_encoder = LabelEncoder()\n",
    "article_encoder = LabelEncoder()\n",
    "\n",
    "df_clean[\"gender_encoded\"] = gender_encoder.fit_transform(df_clean[\"gender\"])\n",
    "df_clean[\"article_encoded\"] = article_encoder.fit_transform(df_clean[\"articleType\"])\n",
    "\n",
    "y_gender = df_clean[\"gender_encoded\"].values\n",
    "y_article = df_clean[\"article_encoded\"].values"
   ]
  },
  {
   "cell_type": "code",
   "execution_count": 21,
   "id": "f95260dd",
   "metadata": {},
   "outputs": [],
   "source": [
    "X_train, X_val, y_gender_train, y_gender_val, y_article_train, y_article_val = train_test_split(images, y_gender, y_article, test_size=0.2, random_state=42)"
   ]
  },
  {
   "cell_type": "code",
   "execution_count": 22,
   "id": "15c238af",
   "metadata": {},
   "outputs": [
    {
     "name": "stderr",
     "output_type": "stream",
     "text": [
      "/var/folders/7g/d8ckv1rx1kb58dsmtxs162780000gn/T/ipykernel_998/1534803227.py:4: UserWarning: `input_shape` is undefined or non-square, or `rows` is not in [96, 128, 160, 192, 224]. Weights for input shape (224, 224) will be loaded as the default.\n",
      "  base_model = MobileNetV2(include_top=False, input_tensor=input_tensor, weights='imagenet')\n"
     ]
    }
   ],
   "source": [
    "input_tensor = Input(shape=(128, 128, 3))\n",
    "\n",
    "# MobileNetV2 z wagami ImageNet, bez górnych warstw\n",
    "base_model = MobileNetV2(include_top=False, input_tensor=input_tensor, weights='imagenet')\n",
    "base_model.trainable = False  # zamrożenie wag\n",
    "\n",
    "x = base_model.output\n",
    "x = GlobalAveragePooling2D()(x)\n",
    "x = Dense(256, activation='relu')(x)\n",
    "x = Dense(128, activation='relu')(x)\n",
    "x = Dense(64, activation='relu')(x)\n",
    "x = Dropout(0.5)(x)\n",
    "\n",
    "# Wyjście 1: gender (multi-class)\n",
    "gender_output = Dense(len(gender_encoder.classes_), activation=\"softmax\", name=\"gender\")(x)\n",
    "\n",
    "# Wyjście 2: articleType (multi-class)\n",
    "article_output = Dense(len(article_encoder.classes_), activation=\"softmax\", name=\"article\")(x)\n",
    "\n",
    "# Model\n",
    "model = Model(inputs=input_tensor, outputs=[gender_output, article_output])"
   ]
  },
  {
   "cell_type": "code",
   "execution_count": 23,
   "id": "51dcd58e",
   "metadata": {},
   "outputs": [],
   "source": [
    "model.compile(\n",
    "    optimizer=Adam(learning_rate=0.0001),\n",
    "    loss={\n",
    "        \"gender\": \"sparse_categorical_crossentropy\",\n",
    "        \"article\": \"sparse_categorical_crossentropy\"\n",
    "    },\n",
    "    metrics={\n",
    "        \"gender\": \"accuracy\",\n",
    "        \"article\": \"accuracy\"\n",
    "    }\n",
    ")"
   ]
  },
  {
   "cell_type": "code",
   "execution_count": 24,
   "id": "7f302bcb",
   "metadata": {},
   "outputs": [
    {
     "name": "stdout",
     "output_type": "stream",
     "text": [
      "Epoch 1/10\n",
      "\u001b[1m869/869\u001b[0m \u001b[32m━━━━━━━━━━━━━━━━━━━━\u001b[0m\u001b[37m\u001b[0m \u001b[1m78s\u001b[0m 88ms/step - article_accuracy: 0.3605 - article_loss: 2.2942 - gender_accuracy: 0.6467 - gender_loss: 0.7965 - loss: 3.0907 - val_article_accuracy: 0.7865 - val_article_loss: 0.7954 - val_gender_accuracy: 0.8563 - val_gender_loss: 0.3830 - val_loss: 1.1791\n",
      "Epoch 2/10\n",
      "\u001b[1m869/869\u001b[0m \u001b[32m━━━━━━━━━━━━━━━━━━━━\u001b[0m\u001b[37m\u001b[0m \u001b[1m105s\u001b[0m 121ms/step - article_accuracy: 0.7027 - article_loss: 1.0298 - gender_accuracy: 0.8088 - gender_loss: 0.5023 - loss: 1.5321 - val_article_accuracy: 0.8383 - val_article_loss: 0.5492 - val_gender_accuracy: 0.8767 - val_gender_loss: 0.3359 - val_loss: 0.8846\n",
      "Epoch 3/10\n",
      "\u001b[1m869/869\u001b[0m \u001b[32m━━━━━━━━━━━━━━━━━━━━\u001b[0m\u001b[37m\u001b[0m \u001b[1m115s\u001b[0m 132ms/step - article_accuracy: 0.7696 - article_loss: 0.7709 - gender_accuracy: 0.8465 - gender_loss: 0.4182 - loss: 1.1891 - val_article_accuracy: 0.8577 - val_article_loss: 0.4520 - val_gender_accuracy: 0.8846 - val_gender_loss: 0.3206 - val_loss: 0.7726\n",
      "Epoch 4/10\n",
      "\u001b[1m869/869\u001b[0m \u001b[32m━━━━━━━━━━━━━━━━━━━━\u001b[0m\u001b[37m\u001b[0m \u001b[1m109s\u001b[0m 125ms/step - article_accuracy: 0.8052 - article_loss: 0.6459 - gender_accuracy: 0.8606 - gender_loss: 0.3737 - loss: 1.0196 - val_article_accuracy: 0.8647 - val_article_loss: 0.4092 - val_gender_accuracy: 0.8914 - val_gender_loss: 0.3064 - val_loss: 0.7164\n",
      "Epoch 5/10\n",
      "\u001b[1m869/869\u001b[0m \u001b[32m━━━━━━━━━━━━━━━━━━━━\u001b[0m\u001b[37m\u001b[0m \u001b[1m116s\u001b[0m 133ms/step - article_accuracy: 0.8258 - article_loss: 0.5739 - gender_accuracy: 0.8781 - gender_loss: 0.3388 - loss: 0.9127 - val_article_accuracy: 0.8744 - val_article_loss: 0.3767 - val_gender_accuracy: 0.8924 - val_gender_loss: 0.3037 - val_loss: 0.6807\n",
      "Epoch 6/10\n",
      "\u001b[1m869/869\u001b[0m \u001b[32m━━━━━━━━━━━━━━━━━━━━\u001b[0m\u001b[37m\u001b[0m \u001b[1m113s\u001b[0m 130ms/step - article_accuracy: 0.8392 - article_loss: 0.5143 - gender_accuracy: 0.8837 - gender_loss: 0.3223 - loss: 0.8366 - val_article_accuracy: 0.8816 - val_article_loss: 0.3544 - val_gender_accuracy: 0.8957 - val_gender_loss: 0.2960 - val_loss: 0.6511\n",
      "Epoch 7/10\n",
      "\u001b[1m869/869\u001b[0m \u001b[32m━━━━━━━━━━━━━━━━━━━━\u001b[0m\u001b[37m\u001b[0m \u001b[1m111s\u001b[0m 128ms/step - article_accuracy: 0.8527 - article_loss: 0.4730 - gender_accuracy: 0.8907 - gender_loss: 0.3022 - loss: 0.7752 - val_article_accuracy: 0.8826 - val_article_loss: 0.3475 - val_gender_accuracy: 0.8986 - val_gender_loss: 0.2892 - val_loss: 0.6371\n",
      "Epoch 8/10\n",
      "\u001b[1m869/869\u001b[0m \u001b[32m━━━━━━━━━━━━━━━━━━━━\u001b[0m\u001b[37m\u001b[0m \u001b[1m117s\u001b[0m 135ms/step - article_accuracy: 0.8595 - article_loss: 0.4365 - gender_accuracy: 0.8939 - gender_loss: 0.2824 - loss: 0.7190 - val_article_accuracy: 0.8853 - val_article_loss: 0.3322 - val_gender_accuracy: 0.8976 - val_gender_loss: 0.2854 - val_loss: 0.6180\n",
      "Epoch 9/10\n",
      "\u001b[1m869/869\u001b[0m \u001b[32m━━━━━━━━━━━━━━━━━━━━\u001b[0m\u001b[37m\u001b[0m \u001b[1m115s\u001b[0m 132ms/step - article_accuracy: 0.8692 - article_loss: 0.4013 - gender_accuracy: 0.9030 - gender_loss: 0.2627 - loss: 0.6640 - val_article_accuracy: 0.8859 - val_article_loss: 0.3299 - val_gender_accuracy: 0.9009 - val_gender_loss: 0.2776 - val_loss: 0.6081\n",
      "Epoch 10/10\n",
      "\u001b[1m869/869\u001b[0m \u001b[32m━━━━━━━━━━━━━━━━━━━━\u001b[0m\u001b[37m\u001b[0m \u001b[1m109s\u001b[0m 126ms/step - article_accuracy: 0.8761 - article_loss: 0.3761 - gender_accuracy: 0.9056 - gender_loss: 0.2561 - loss: 0.6322 - val_article_accuracy: 0.8801 - val_article_loss: 0.3320 - val_gender_accuracy: 0.9020 - val_gender_loss: 0.2786 - val_loss: 0.6105\n"
     ]
    }
   ],
   "source": [
    "early_stopping = EarlyStopping(monitor='val_loss', patience=3, restore_best_weights=True)\n",
    "\n",
    "history = model.fit(\n",
    "    X_train,\n",
    "    {\"gender\": y_gender_train, \"article\": y_article_train},\n",
    "    validation_data=(X_val, {\"gender\": y_gender_val, \"article\": y_article_val}),\n",
    "    epochs=10,\n",
    "    batch_size=32\n",
    ")"
   ]
  },
  {
   "cell_type": "code",
   "execution_count": 25,
   "id": "a383de30",
   "metadata": {},
   "outputs": [
    {
     "data": {
      "text/plain": [
       "{'article_accuracy': [0.5095323920249939,\n",
       "  0.7210431694984436,\n",
       "  0.775719404220581,\n",
       "  0.8095683455467224,\n",
       "  0.8269784450531006,\n",
       "  0.8401079177856445,\n",
       "  0.8534172773361206,\n",
       "  0.8614028692245483,\n",
       "  0.8693525195121765,\n",
       "  0.8750359416007996],\n",
       " 'article_loss': [1.7406260967254639,\n",
       "  0.9603444337844849,\n",
       "  0.7514206171035767,\n",
       "  0.6330057978630066,\n",
       "  0.5625605583190918,\n",
       "  0.5046788454055786,\n",
       "  0.46582043170928955,\n",
       "  0.42801201343536377,\n",
       "  0.4001407027244568,\n",
       "  0.37532439827919006],\n",
       " 'gender_accuracy': [0.7223381400108337,\n",
       "  0.8176978230476379,\n",
       "  0.8463668823242188,\n",
       "  0.8598201274871826,\n",
       "  0.8757553696632385,\n",
       "  0.883093535900116,\n",
       "  0.8910071849822998,\n",
       "  0.8938129544258118,\n",
       "  0.9024460315704346,\n",
       "  0.9061870574951172],\n",
       " 'gender_loss': [0.6603536605834961,\n",
       "  0.4828401207923889,\n",
       "  0.41511762142181396,\n",
       "  0.3755137622356415,\n",
       "  0.3393420875072479,\n",
       "  0.32035544514656067,\n",
       "  0.30011022090911865,\n",
       "  0.2850048840045929,\n",
       "  0.26493170857429504,\n",
       "  0.253469318151474],\n",
       " 'loss': [2.4011025428771973,\n",
       "  1.4431743621826172,\n",
       "  1.166474461555481,\n",
       "  1.0084413290023804,\n",
       "  0.9018540382385254,\n",
       "  0.8249948620796204,\n",
       "  0.7658218741416931,\n",
       "  0.7130672931671143,\n",
       "  0.6649785041809082,\n",
       "  0.628778874874115],\n",
       " 'val_article_accuracy': [0.7864748239517212,\n",
       "  0.8382734060287476,\n",
       "  0.8576978445053101,\n",
       "  0.8647481799125671,\n",
       "  0.8743885159492493,\n",
       "  0.8815827369689941,\n",
       "  0.8825899362564087,\n",
       "  0.8853237628936768,\n",
       "  0.8858993053436279,\n",
       "  0.8801438808441162],\n",
       " 'val_article_loss': [0.7954121232032776,\n",
       "  0.5491982102394104,\n",
       "  0.45203879475593567,\n",
       "  0.4091758131980896,\n",
       "  0.3766767978668213,\n",
       "  0.3543888032436371,\n",
       "  0.347495973110199,\n",
       "  0.33224037289619446,\n",
       "  0.32994675636291504,\n",
       "  0.3320266902446747],\n",
       " 'val_gender_accuracy': [0.8562589883804321,\n",
       "  0.8766906261444092,\n",
       "  0.8846043348312378,\n",
       "  0.8913668990135193,\n",
       "  0.8923740983009338,\n",
       "  0.8956834673881531,\n",
       "  0.8985611796379089,\n",
       "  0.8975539803504944,\n",
       "  0.9008632898330688,\n",
       "  0.9020143747329712],\n",
       " 'val_gender_loss': [0.3830186724662781,\n",
       "  0.33592820167541504,\n",
       "  0.32061412930488586,\n",
       "  0.3063918650150299,\n",
       "  0.303720623254776,\n",
       "  0.29603222012519836,\n",
       "  0.28918617963790894,\n",
       "  0.2854301631450653,\n",
       "  0.27757012844085693,\n",
       "  0.27855417132377625],\n",
       " 'val_loss': [1.179127812385559,\n",
       "  0.88462895154953,\n",
       "  0.7725964784622192,\n",
       "  0.7164264917373657,\n",
       "  0.6806538701057434,\n",
       "  0.6511254906654358,\n",
       "  0.6370548605918884,\n",
       "  0.6180168986320496,\n",
       "  0.608100414276123,\n",
       "  0.6104647517204285]}"
      ]
     },
     "execution_count": 25,
     "metadata": {},
     "output_type": "execute_result"
    }
   ],
   "source": [
    "history.history"
   ]
  },
  {
   "cell_type": "code",
   "execution_count": 26,
   "id": "046577db",
   "metadata": {},
   "outputs": [
    {
     "name": "stdout",
     "output_type": "stream",
     "text": [
      "last validation loss: 0.628778874874115\n",
      "last validation loss: 0.6104647517204285\n"
     ]
    }
   ],
   "source": [
    "print('last validation loss:', history.history['loss'][-1])\n",
    "print('last validation loss:', history.history['val_loss'][-1])"
   ]
  },
  {
   "cell_type": "code",
   "execution_count": 27,
   "id": "bd2e97e4",
   "metadata": {},
   "outputs": [
    {
     "data": {
      "application/vnd.plotly.v1+json": {
       "config": {
        "plotlyServerURL": "https://plot.ly"
       },
       "data": [
        {
         "mode": "lines",
         "name": "Train Loss",
         "type": "scatter",
         "y": [
          2.4011025428771973,
          1.4431743621826172,
          1.166474461555481,
          1.0084413290023804,
          0.9018540382385254,
          0.8249948620796204,
          0.7658218741416931,
          0.7130672931671143,
          0.6649785041809082,
          0.628778874874115
         ]
        },
        {
         "mode": "lines",
         "name": "Val Loss",
         "type": "scatter",
         "y": [
          1.179127812385559,
          0.88462895154953,
          0.7725964784622192,
          0.7164264917373657,
          0.6806538701057434,
          0.6511254906654358,
          0.6370548605918884,
          0.6180168986320496,
          0.608100414276123,
          0.6104647517204285
         ]
        }
       ],
       "layout": {
        "template": {
         "data": {
          "bar": [
           {
            "error_x": {
             "color": "#2a3f5f"
            },
            "error_y": {
             "color": "#2a3f5f"
            },
            "marker": {
             "line": {
              "color": "#E5ECF6",
              "width": 0.5
             },
             "pattern": {
              "fillmode": "overlay",
              "size": 10,
              "solidity": 0.2
             }
            },
            "type": "bar"
           }
          ],
          "barpolar": [
           {
            "marker": {
             "line": {
              "color": "#E5ECF6",
              "width": 0.5
             },
             "pattern": {
              "fillmode": "overlay",
              "size": 10,
              "solidity": 0.2
             }
            },
            "type": "barpolar"
           }
          ],
          "carpet": [
           {
            "aaxis": {
             "endlinecolor": "#2a3f5f",
             "gridcolor": "white",
             "linecolor": "white",
             "minorgridcolor": "white",
             "startlinecolor": "#2a3f5f"
            },
            "baxis": {
             "endlinecolor": "#2a3f5f",
             "gridcolor": "white",
             "linecolor": "white",
             "minorgridcolor": "white",
             "startlinecolor": "#2a3f5f"
            },
            "type": "carpet"
           }
          ],
          "choropleth": [
           {
            "colorbar": {
             "outlinewidth": 0,
             "ticks": ""
            },
            "type": "choropleth"
           }
          ],
          "contour": [
           {
            "colorbar": {
             "outlinewidth": 0,
             "ticks": ""
            },
            "colorscale": [
             [
              0,
              "#0d0887"
             ],
             [
              0.1111111111111111,
              "#46039f"
             ],
             [
              0.2222222222222222,
              "#7201a8"
             ],
             [
              0.3333333333333333,
              "#9c179e"
             ],
             [
              0.4444444444444444,
              "#bd3786"
             ],
             [
              0.5555555555555556,
              "#d8576b"
             ],
             [
              0.6666666666666666,
              "#ed7953"
             ],
             [
              0.7777777777777778,
              "#fb9f3a"
             ],
             [
              0.8888888888888888,
              "#fdca26"
             ],
             [
              1,
              "#f0f921"
             ]
            ],
            "type": "contour"
           }
          ],
          "contourcarpet": [
           {
            "colorbar": {
             "outlinewidth": 0,
             "ticks": ""
            },
            "type": "contourcarpet"
           }
          ],
          "heatmap": [
           {
            "colorbar": {
             "outlinewidth": 0,
             "ticks": ""
            },
            "colorscale": [
             [
              0,
              "#0d0887"
             ],
             [
              0.1111111111111111,
              "#46039f"
             ],
             [
              0.2222222222222222,
              "#7201a8"
             ],
             [
              0.3333333333333333,
              "#9c179e"
             ],
             [
              0.4444444444444444,
              "#bd3786"
             ],
             [
              0.5555555555555556,
              "#d8576b"
             ],
             [
              0.6666666666666666,
              "#ed7953"
             ],
             [
              0.7777777777777778,
              "#fb9f3a"
             ],
             [
              0.8888888888888888,
              "#fdca26"
             ],
             [
              1,
              "#f0f921"
             ]
            ],
            "type": "heatmap"
           }
          ],
          "histogram": [
           {
            "marker": {
             "pattern": {
              "fillmode": "overlay",
              "size": 10,
              "solidity": 0.2
             }
            },
            "type": "histogram"
           }
          ],
          "histogram2d": [
           {
            "colorbar": {
             "outlinewidth": 0,
             "ticks": ""
            },
            "colorscale": [
             [
              0,
              "#0d0887"
             ],
             [
              0.1111111111111111,
              "#46039f"
             ],
             [
              0.2222222222222222,
              "#7201a8"
             ],
             [
              0.3333333333333333,
              "#9c179e"
             ],
             [
              0.4444444444444444,
              "#bd3786"
             ],
             [
              0.5555555555555556,
              "#d8576b"
             ],
             [
              0.6666666666666666,
              "#ed7953"
             ],
             [
              0.7777777777777778,
              "#fb9f3a"
             ],
             [
              0.8888888888888888,
              "#fdca26"
             ],
             [
              1,
              "#f0f921"
             ]
            ],
            "type": "histogram2d"
           }
          ],
          "histogram2dcontour": [
           {
            "colorbar": {
             "outlinewidth": 0,
             "ticks": ""
            },
            "colorscale": [
             [
              0,
              "#0d0887"
             ],
             [
              0.1111111111111111,
              "#46039f"
             ],
             [
              0.2222222222222222,
              "#7201a8"
             ],
             [
              0.3333333333333333,
              "#9c179e"
             ],
             [
              0.4444444444444444,
              "#bd3786"
             ],
             [
              0.5555555555555556,
              "#d8576b"
             ],
             [
              0.6666666666666666,
              "#ed7953"
             ],
             [
              0.7777777777777778,
              "#fb9f3a"
             ],
             [
              0.8888888888888888,
              "#fdca26"
             ],
             [
              1,
              "#f0f921"
             ]
            ],
            "type": "histogram2dcontour"
           }
          ],
          "mesh3d": [
           {
            "colorbar": {
             "outlinewidth": 0,
             "ticks": ""
            },
            "type": "mesh3d"
           }
          ],
          "parcoords": [
           {
            "line": {
             "colorbar": {
              "outlinewidth": 0,
              "ticks": ""
             }
            },
            "type": "parcoords"
           }
          ],
          "pie": [
           {
            "automargin": true,
            "type": "pie"
           }
          ],
          "scatter": [
           {
            "fillpattern": {
             "fillmode": "overlay",
             "size": 10,
             "solidity": 0.2
            },
            "type": "scatter"
           }
          ],
          "scatter3d": [
           {
            "line": {
             "colorbar": {
              "outlinewidth": 0,
              "ticks": ""
             }
            },
            "marker": {
             "colorbar": {
              "outlinewidth": 0,
              "ticks": ""
             }
            },
            "type": "scatter3d"
           }
          ],
          "scattercarpet": [
           {
            "marker": {
             "colorbar": {
              "outlinewidth": 0,
              "ticks": ""
             }
            },
            "type": "scattercarpet"
           }
          ],
          "scattergeo": [
           {
            "marker": {
             "colorbar": {
              "outlinewidth": 0,
              "ticks": ""
             }
            },
            "type": "scattergeo"
           }
          ],
          "scattergl": [
           {
            "marker": {
             "colorbar": {
              "outlinewidth": 0,
              "ticks": ""
             }
            },
            "type": "scattergl"
           }
          ],
          "scattermap": [
           {
            "marker": {
             "colorbar": {
              "outlinewidth": 0,
              "ticks": ""
             }
            },
            "type": "scattermap"
           }
          ],
          "scattermapbox": [
           {
            "marker": {
             "colorbar": {
              "outlinewidth": 0,
              "ticks": ""
             }
            },
            "type": "scattermapbox"
           }
          ],
          "scatterpolar": [
           {
            "marker": {
             "colorbar": {
              "outlinewidth": 0,
              "ticks": ""
             }
            },
            "type": "scatterpolar"
           }
          ],
          "scatterpolargl": [
           {
            "marker": {
             "colorbar": {
              "outlinewidth": 0,
              "ticks": ""
             }
            },
            "type": "scatterpolargl"
           }
          ],
          "scatterternary": [
           {
            "marker": {
             "colorbar": {
              "outlinewidth": 0,
              "ticks": ""
             }
            },
            "type": "scatterternary"
           }
          ],
          "surface": [
           {
            "colorbar": {
             "outlinewidth": 0,
             "ticks": ""
            },
            "colorscale": [
             [
              0,
              "#0d0887"
             ],
             [
              0.1111111111111111,
              "#46039f"
             ],
             [
              0.2222222222222222,
              "#7201a8"
             ],
             [
              0.3333333333333333,
              "#9c179e"
             ],
             [
              0.4444444444444444,
              "#bd3786"
             ],
             [
              0.5555555555555556,
              "#d8576b"
             ],
             [
              0.6666666666666666,
              "#ed7953"
             ],
             [
              0.7777777777777778,
              "#fb9f3a"
             ],
             [
              0.8888888888888888,
              "#fdca26"
             ],
             [
              1,
              "#f0f921"
             ]
            ],
            "type": "surface"
           }
          ],
          "table": [
           {
            "cells": {
             "fill": {
              "color": "#EBF0F8"
             },
             "line": {
              "color": "white"
             }
            },
            "header": {
             "fill": {
              "color": "#C8D4E3"
             },
             "line": {
              "color": "white"
             }
            },
            "type": "table"
           }
          ]
         },
         "layout": {
          "annotationdefaults": {
           "arrowcolor": "#2a3f5f",
           "arrowhead": 0,
           "arrowwidth": 1
          },
          "autotypenumbers": "strict",
          "coloraxis": {
           "colorbar": {
            "outlinewidth": 0,
            "ticks": ""
           }
          },
          "colorscale": {
           "diverging": [
            [
             0,
             "#8e0152"
            ],
            [
             0.1,
             "#c51b7d"
            ],
            [
             0.2,
             "#de77ae"
            ],
            [
             0.3,
             "#f1b6da"
            ],
            [
             0.4,
             "#fde0ef"
            ],
            [
             0.5,
             "#f7f7f7"
            ],
            [
             0.6,
             "#e6f5d0"
            ],
            [
             0.7,
             "#b8e186"
            ],
            [
             0.8,
             "#7fbc41"
            ],
            [
             0.9,
             "#4d9221"
            ],
            [
             1,
             "#276419"
            ]
           ],
           "sequential": [
            [
             0,
             "#0d0887"
            ],
            [
             0.1111111111111111,
             "#46039f"
            ],
            [
             0.2222222222222222,
             "#7201a8"
            ],
            [
             0.3333333333333333,
             "#9c179e"
            ],
            [
             0.4444444444444444,
             "#bd3786"
            ],
            [
             0.5555555555555556,
             "#d8576b"
            ],
            [
             0.6666666666666666,
             "#ed7953"
            ],
            [
             0.7777777777777778,
             "#fb9f3a"
            ],
            [
             0.8888888888888888,
             "#fdca26"
            ],
            [
             1,
             "#f0f921"
            ]
           ],
           "sequentialminus": [
            [
             0,
             "#0d0887"
            ],
            [
             0.1111111111111111,
             "#46039f"
            ],
            [
             0.2222222222222222,
             "#7201a8"
            ],
            [
             0.3333333333333333,
             "#9c179e"
            ],
            [
             0.4444444444444444,
             "#bd3786"
            ],
            [
             0.5555555555555556,
             "#d8576b"
            ],
            [
             0.6666666666666666,
             "#ed7953"
            ],
            [
             0.7777777777777778,
             "#fb9f3a"
            ],
            [
             0.8888888888888888,
             "#fdca26"
            ],
            [
             1,
             "#f0f921"
            ]
           ]
          },
          "colorway": [
           "#636efa",
           "#EF553B",
           "#00cc96",
           "#ab63fa",
           "#FFA15A",
           "#19d3f3",
           "#FF6692",
           "#B6E880",
           "#FF97FF",
           "#FECB52"
          ],
          "font": {
           "color": "#2a3f5f"
          },
          "geo": {
           "bgcolor": "white",
           "lakecolor": "white",
           "landcolor": "#E5ECF6",
           "showlakes": true,
           "showland": true,
           "subunitcolor": "white"
          },
          "hoverlabel": {
           "align": "left"
          },
          "hovermode": "closest",
          "mapbox": {
           "style": "light"
          },
          "paper_bgcolor": "white",
          "plot_bgcolor": "#E5ECF6",
          "polar": {
           "angularaxis": {
            "gridcolor": "white",
            "linecolor": "white",
            "ticks": ""
           },
           "bgcolor": "#E5ECF6",
           "radialaxis": {
            "gridcolor": "white",
            "linecolor": "white",
            "ticks": ""
           }
          },
          "scene": {
           "xaxis": {
            "backgroundcolor": "#E5ECF6",
            "gridcolor": "white",
            "gridwidth": 2,
            "linecolor": "white",
            "showbackground": true,
            "ticks": "",
            "zerolinecolor": "white"
           },
           "yaxis": {
            "backgroundcolor": "#E5ECF6",
            "gridcolor": "white",
            "gridwidth": 2,
            "linecolor": "white",
            "showbackground": true,
            "ticks": "",
            "zerolinecolor": "white"
           },
           "zaxis": {
            "backgroundcolor": "#E5ECF6",
            "gridcolor": "white",
            "gridwidth": 2,
            "linecolor": "white",
            "showbackground": true,
            "ticks": "",
            "zerolinecolor": "white"
           }
          },
          "shapedefaults": {
           "line": {
            "color": "#2a3f5f"
           }
          },
          "ternary": {
           "aaxis": {
            "gridcolor": "white",
            "linecolor": "white",
            "ticks": ""
           },
           "baxis": {
            "gridcolor": "white",
            "linecolor": "white",
            "ticks": ""
           },
           "bgcolor": "#E5ECF6",
           "caxis": {
            "gridcolor": "white",
            "linecolor": "white",
            "ticks": ""
           }
          },
          "title": {
           "x": 0.05
          },
          "xaxis": {
           "automargin": true,
           "gridcolor": "white",
           "linecolor": "white",
           "ticks": "",
           "title": {
            "standoff": 15
           },
           "zerolinecolor": "white",
           "zerolinewidth": 2
          },
          "yaxis": {
           "automargin": true,
           "gridcolor": "white",
           "linecolor": "white",
           "ticks": "",
           "title": {
            "standoff": 15
           },
           "zerolinecolor": "white",
           "zerolinewidth": 2
          }
         }
        },
        "title": {
         "text": "Total Loss"
        },
        "xaxis": {
         "title": {
          "text": "Epoch"
         }
        },
        "yaxis": {
         "title": {
          "text": "Loss"
         }
        }
       }
      }
     },
     "metadata": {},
     "output_type": "display_data"
    },
    {
     "data": {
      "application/vnd.plotly.v1+json": {
       "config": {
        "plotlyServerURL": "https://plot.ly"
       },
       "data": [
        {
         "mode": "lines",
         "name": "Train Gender Loss",
         "type": "scatter",
         "y": [
          0.6603536605834961,
          0.4828401207923889,
          0.41511762142181396,
          0.3755137622356415,
          0.3393420875072479,
          0.32035544514656067,
          0.30011022090911865,
          0.2850048840045929,
          0.26493170857429504,
          0.253469318151474
         ]
        },
        {
         "mode": "lines",
         "name": "Val Gender Loss",
         "type": "scatter",
         "y": [
          0.3830186724662781,
          0.33592820167541504,
          0.32061412930488586,
          0.3063918650150299,
          0.303720623254776,
          0.29603222012519836,
          0.28918617963790894,
          0.2854301631450653,
          0.27757012844085693,
          0.27855417132377625
         ]
        },
        {
         "mode": "lines",
         "name": "Train Article Loss",
         "type": "scatter",
         "y": [
          1.7406260967254639,
          0.9603444337844849,
          0.7514206171035767,
          0.6330057978630066,
          0.5625605583190918,
          0.5046788454055786,
          0.46582043170928955,
          0.42801201343536377,
          0.4001407027244568,
          0.37532439827919006
         ]
        },
        {
         "mode": "lines",
         "name": "Val Article Loss",
         "type": "scatter",
         "y": [
          0.7954121232032776,
          0.5491982102394104,
          0.45203879475593567,
          0.4091758131980896,
          0.3766767978668213,
          0.3543888032436371,
          0.347495973110199,
          0.33224037289619446,
          0.32994675636291504,
          0.3320266902446747
         ]
        }
       ],
       "layout": {
        "template": {
         "data": {
          "bar": [
           {
            "error_x": {
             "color": "#2a3f5f"
            },
            "error_y": {
             "color": "#2a3f5f"
            },
            "marker": {
             "line": {
              "color": "#E5ECF6",
              "width": 0.5
             },
             "pattern": {
              "fillmode": "overlay",
              "size": 10,
              "solidity": 0.2
             }
            },
            "type": "bar"
           }
          ],
          "barpolar": [
           {
            "marker": {
             "line": {
              "color": "#E5ECF6",
              "width": 0.5
             },
             "pattern": {
              "fillmode": "overlay",
              "size": 10,
              "solidity": 0.2
             }
            },
            "type": "barpolar"
           }
          ],
          "carpet": [
           {
            "aaxis": {
             "endlinecolor": "#2a3f5f",
             "gridcolor": "white",
             "linecolor": "white",
             "minorgridcolor": "white",
             "startlinecolor": "#2a3f5f"
            },
            "baxis": {
             "endlinecolor": "#2a3f5f",
             "gridcolor": "white",
             "linecolor": "white",
             "minorgridcolor": "white",
             "startlinecolor": "#2a3f5f"
            },
            "type": "carpet"
           }
          ],
          "choropleth": [
           {
            "colorbar": {
             "outlinewidth": 0,
             "ticks": ""
            },
            "type": "choropleth"
           }
          ],
          "contour": [
           {
            "colorbar": {
             "outlinewidth": 0,
             "ticks": ""
            },
            "colorscale": [
             [
              0,
              "#0d0887"
             ],
             [
              0.1111111111111111,
              "#46039f"
             ],
             [
              0.2222222222222222,
              "#7201a8"
             ],
             [
              0.3333333333333333,
              "#9c179e"
             ],
             [
              0.4444444444444444,
              "#bd3786"
             ],
             [
              0.5555555555555556,
              "#d8576b"
             ],
             [
              0.6666666666666666,
              "#ed7953"
             ],
             [
              0.7777777777777778,
              "#fb9f3a"
             ],
             [
              0.8888888888888888,
              "#fdca26"
             ],
             [
              1,
              "#f0f921"
             ]
            ],
            "type": "contour"
           }
          ],
          "contourcarpet": [
           {
            "colorbar": {
             "outlinewidth": 0,
             "ticks": ""
            },
            "type": "contourcarpet"
           }
          ],
          "heatmap": [
           {
            "colorbar": {
             "outlinewidth": 0,
             "ticks": ""
            },
            "colorscale": [
             [
              0,
              "#0d0887"
             ],
             [
              0.1111111111111111,
              "#46039f"
             ],
             [
              0.2222222222222222,
              "#7201a8"
             ],
             [
              0.3333333333333333,
              "#9c179e"
             ],
             [
              0.4444444444444444,
              "#bd3786"
             ],
             [
              0.5555555555555556,
              "#d8576b"
             ],
             [
              0.6666666666666666,
              "#ed7953"
             ],
             [
              0.7777777777777778,
              "#fb9f3a"
             ],
             [
              0.8888888888888888,
              "#fdca26"
             ],
             [
              1,
              "#f0f921"
             ]
            ],
            "type": "heatmap"
           }
          ],
          "histogram": [
           {
            "marker": {
             "pattern": {
              "fillmode": "overlay",
              "size": 10,
              "solidity": 0.2
             }
            },
            "type": "histogram"
           }
          ],
          "histogram2d": [
           {
            "colorbar": {
             "outlinewidth": 0,
             "ticks": ""
            },
            "colorscale": [
             [
              0,
              "#0d0887"
             ],
             [
              0.1111111111111111,
              "#46039f"
             ],
             [
              0.2222222222222222,
              "#7201a8"
             ],
             [
              0.3333333333333333,
              "#9c179e"
             ],
             [
              0.4444444444444444,
              "#bd3786"
             ],
             [
              0.5555555555555556,
              "#d8576b"
             ],
             [
              0.6666666666666666,
              "#ed7953"
             ],
             [
              0.7777777777777778,
              "#fb9f3a"
             ],
             [
              0.8888888888888888,
              "#fdca26"
             ],
             [
              1,
              "#f0f921"
             ]
            ],
            "type": "histogram2d"
           }
          ],
          "histogram2dcontour": [
           {
            "colorbar": {
             "outlinewidth": 0,
             "ticks": ""
            },
            "colorscale": [
             [
              0,
              "#0d0887"
             ],
             [
              0.1111111111111111,
              "#46039f"
             ],
             [
              0.2222222222222222,
              "#7201a8"
             ],
             [
              0.3333333333333333,
              "#9c179e"
             ],
             [
              0.4444444444444444,
              "#bd3786"
             ],
             [
              0.5555555555555556,
              "#d8576b"
             ],
             [
              0.6666666666666666,
              "#ed7953"
             ],
             [
              0.7777777777777778,
              "#fb9f3a"
             ],
             [
              0.8888888888888888,
              "#fdca26"
             ],
             [
              1,
              "#f0f921"
             ]
            ],
            "type": "histogram2dcontour"
           }
          ],
          "mesh3d": [
           {
            "colorbar": {
             "outlinewidth": 0,
             "ticks": ""
            },
            "type": "mesh3d"
           }
          ],
          "parcoords": [
           {
            "line": {
             "colorbar": {
              "outlinewidth": 0,
              "ticks": ""
             }
            },
            "type": "parcoords"
           }
          ],
          "pie": [
           {
            "automargin": true,
            "type": "pie"
           }
          ],
          "scatter": [
           {
            "fillpattern": {
             "fillmode": "overlay",
             "size": 10,
             "solidity": 0.2
            },
            "type": "scatter"
           }
          ],
          "scatter3d": [
           {
            "line": {
             "colorbar": {
              "outlinewidth": 0,
              "ticks": ""
             }
            },
            "marker": {
             "colorbar": {
              "outlinewidth": 0,
              "ticks": ""
             }
            },
            "type": "scatter3d"
           }
          ],
          "scattercarpet": [
           {
            "marker": {
             "colorbar": {
              "outlinewidth": 0,
              "ticks": ""
             }
            },
            "type": "scattercarpet"
           }
          ],
          "scattergeo": [
           {
            "marker": {
             "colorbar": {
              "outlinewidth": 0,
              "ticks": ""
             }
            },
            "type": "scattergeo"
           }
          ],
          "scattergl": [
           {
            "marker": {
             "colorbar": {
              "outlinewidth": 0,
              "ticks": ""
             }
            },
            "type": "scattergl"
           }
          ],
          "scattermap": [
           {
            "marker": {
             "colorbar": {
              "outlinewidth": 0,
              "ticks": ""
             }
            },
            "type": "scattermap"
           }
          ],
          "scattermapbox": [
           {
            "marker": {
             "colorbar": {
              "outlinewidth": 0,
              "ticks": ""
             }
            },
            "type": "scattermapbox"
           }
          ],
          "scatterpolar": [
           {
            "marker": {
             "colorbar": {
              "outlinewidth": 0,
              "ticks": ""
             }
            },
            "type": "scatterpolar"
           }
          ],
          "scatterpolargl": [
           {
            "marker": {
             "colorbar": {
              "outlinewidth": 0,
              "ticks": ""
             }
            },
            "type": "scatterpolargl"
           }
          ],
          "scatterternary": [
           {
            "marker": {
             "colorbar": {
              "outlinewidth": 0,
              "ticks": ""
             }
            },
            "type": "scatterternary"
           }
          ],
          "surface": [
           {
            "colorbar": {
             "outlinewidth": 0,
             "ticks": ""
            },
            "colorscale": [
             [
              0,
              "#0d0887"
             ],
             [
              0.1111111111111111,
              "#46039f"
             ],
             [
              0.2222222222222222,
              "#7201a8"
             ],
             [
              0.3333333333333333,
              "#9c179e"
             ],
             [
              0.4444444444444444,
              "#bd3786"
             ],
             [
              0.5555555555555556,
              "#d8576b"
             ],
             [
              0.6666666666666666,
              "#ed7953"
             ],
             [
              0.7777777777777778,
              "#fb9f3a"
             ],
             [
              0.8888888888888888,
              "#fdca26"
             ],
             [
              1,
              "#f0f921"
             ]
            ],
            "type": "surface"
           }
          ],
          "table": [
           {
            "cells": {
             "fill": {
              "color": "#EBF0F8"
             },
             "line": {
              "color": "white"
             }
            },
            "header": {
             "fill": {
              "color": "#C8D4E3"
             },
             "line": {
              "color": "white"
             }
            },
            "type": "table"
           }
          ]
         },
         "layout": {
          "annotationdefaults": {
           "arrowcolor": "#2a3f5f",
           "arrowhead": 0,
           "arrowwidth": 1
          },
          "autotypenumbers": "strict",
          "coloraxis": {
           "colorbar": {
            "outlinewidth": 0,
            "ticks": ""
           }
          },
          "colorscale": {
           "diverging": [
            [
             0,
             "#8e0152"
            ],
            [
             0.1,
             "#c51b7d"
            ],
            [
             0.2,
             "#de77ae"
            ],
            [
             0.3,
             "#f1b6da"
            ],
            [
             0.4,
             "#fde0ef"
            ],
            [
             0.5,
             "#f7f7f7"
            ],
            [
             0.6,
             "#e6f5d0"
            ],
            [
             0.7,
             "#b8e186"
            ],
            [
             0.8,
             "#7fbc41"
            ],
            [
             0.9,
             "#4d9221"
            ],
            [
             1,
             "#276419"
            ]
           ],
           "sequential": [
            [
             0,
             "#0d0887"
            ],
            [
             0.1111111111111111,
             "#46039f"
            ],
            [
             0.2222222222222222,
             "#7201a8"
            ],
            [
             0.3333333333333333,
             "#9c179e"
            ],
            [
             0.4444444444444444,
             "#bd3786"
            ],
            [
             0.5555555555555556,
             "#d8576b"
            ],
            [
             0.6666666666666666,
             "#ed7953"
            ],
            [
             0.7777777777777778,
             "#fb9f3a"
            ],
            [
             0.8888888888888888,
             "#fdca26"
            ],
            [
             1,
             "#f0f921"
            ]
           ],
           "sequentialminus": [
            [
             0,
             "#0d0887"
            ],
            [
             0.1111111111111111,
             "#46039f"
            ],
            [
             0.2222222222222222,
             "#7201a8"
            ],
            [
             0.3333333333333333,
             "#9c179e"
            ],
            [
             0.4444444444444444,
             "#bd3786"
            ],
            [
             0.5555555555555556,
             "#d8576b"
            ],
            [
             0.6666666666666666,
             "#ed7953"
            ],
            [
             0.7777777777777778,
             "#fb9f3a"
            ],
            [
             0.8888888888888888,
             "#fdca26"
            ],
            [
             1,
             "#f0f921"
            ]
           ]
          },
          "colorway": [
           "#636efa",
           "#EF553B",
           "#00cc96",
           "#ab63fa",
           "#FFA15A",
           "#19d3f3",
           "#FF6692",
           "#B6E880",
           "#FF97FF",
           "#FECB52"
          ],
          "font": {
           "color": "#2a3f5f"
          },
          "geo": {
           "bgcolor": "white",
           "lakecolor": "white",
           "landcolor": "#E5ECF6",
           "showlakes": true,
           "showland": true,
           "subunitcolor": "white"
          },
          "hoverlabel": {
           "align": "left"
          },
          "hovermode": "closest",
          "mapbox": {
           "style": "light"
          },
          "paper_bgcolor": "white",
          "plot_bgcolor": "#E5ECF6",
          "polar": {
           "angularaxis": {
            "gridcolor": "white",
            "linecolor": "white",
            "ticks": ""
           },
           "bgcolor": "#E5ECF6",
           "radialaxis": {
            "gridcolor": "white",
            "linecolor": "white",
            "ticks": ""
           }
          },
          "scene": {
           "xaxis": {
            "backgroundcolor": "#E5ECF6",
            "gridcolor": "white",
            "gridwidth": 2,
            "linecolor": "white",
            "showbackground": true,
            "ticks": "",
            "zerolinecolor": "white"
           },
           "yaxis": {
            "backgroundcolor": "#E5ECF6",
            "gridcolor": "white",
            "gridwidth": 2,
            "linecolor": "white",
            "showbackground": true,
            "ticks": "",
            "zerolinecolor": "white"
           },
           "zaxis": {
            "backgroundcolor": "#E5ECF6",
            "gridcolor": "white",
            "gridwidth": 2,
            "linecolor": "white",
            "showbackground": true,
            "ticks": "",
            "zerolinecolor": "white"
           }
          },
          "shapedefaults": {
           "line": {
            "color": "#2a3f5f"
           }
          },
          "ternary": {
           "aaxis": {
            "gridcolor": "white",
            "linecolor": "white",
            "ticks": ""
           },
           "baxis": {
            "gridcolor": "white",
            "linecolor": "white",
            "ticks": ""
           },
           "bgcolor": "#E5ECF6",
           "caxis": {
            "gridcolor": "white",
            "linecolor": "white",
            "ticks": ""
           }
          },
          "title": {
           "x": 0.05
          },
          "xaxis": {
           "automargin": true,
           "gridcolor": "white",
           "linecolor": "white",
           "ticks": "",
           "title": {
            "standoff": 15
           },
           "zerolinecolor": "white",
           "zerolinewidth": 2
          },
          "yaxis": {
           "automargin": true,
           "gridcolor": "white",
           "linecolor": "white",
           "ticks": "",
           "title": {
            "standoff": 15
           },
           "zerolinecolor": "white",
           "zerolinewidth": 2
          }
         }
        },
        "title": {
         "text": "Loss per Output"
        },
        "xaxis": {
         "title": {
          "text": "Epoch"
         }
        },
        "yaxis": {
         "title": {
          "text": "Loss"
         }
        }
       }
      }
     },
     "metadata": {},
     "output_type": "display_data"
    },
    {
     "data": {
      "application/vnd.plotly.v1+json": {
       "config": {
        "plotlyServerURL": "https://plot.ly"
       },
       "data": [
        {
         "mode": "lines",
         "name": "Train Gender Accuracy",
         "type": "scatter",
         "y": [
          0.7223381400108337,
          0.8176978230476379,
          0.8463668823242188,
          0.8598201274871826,
          0.8757553696632385,
          0.883093535900116,
          0.8910071849822998,
          0.8938129544258118,
          0.9024460315704346,
          0.9061870574951172
         ]
        },
        {
         "mode": "lines",
         "name": "Val Gender Accuracy",
         "type": "scatter",
         "y": [
          0.8562589883804321,
          0.8766906261444092,
          0.8846043348312378,
          0.8913668990135193,
          0.8923740983009338,
          0.8956834673881531,
          0.8985611796379089,
          0.8975539803504944,
          0.9008632898330688,
          0.9020143747329712
         ]
        },
        {
         "mode": "lines",
         "name": "Train Article Accuracy",
         "type": "scatter",
         "y": [
          0.5095323920249939,
          0.7210431694984436,
          0.775719404220581,
          0.8095683455467224,
          0.8269784450531006,
          0.8401079177856445,
          0.8534172773361206,
          0.8614028692245483,
          0.8693525195121765,
          0.8750359416007996
         ]
        },
        {
         "mode": "lines",
         "name": "Val Article Accuracy",
         "type": "scatter",
         "y": [
          0.7864748239517212,
          0.8382734060287476,
          0.8576978445053101,
          0.8647481799125671,
          0.8743885159492493,
          0.8815827369689941,
          0.8825899362564087,
          0.8853237628936768,
          0.8858993053436279,
          0.8801438808441162
         ]
        }
       ],
       "layout": {
        "template": {
         "data": {
          "bar": [
           {
            "error_x": {
             "color": "#2a3f5f"
            },
            "error_y": {
             "color": "#2a3f5f"
            },
            "marker": {
             "line": {
              "color": "#E5ECF6",
              "width": 0.5
             },
             "pattern": {
              "fillmode": "overlay",
              "size": 10,
              "solidity": 0.2
             }
            },
            "type": "bar"
           }
          ],
          "barpolar": [
           {
            "marker": {
             "line": {
              "color": "#E5ECF6",
              "width": 0.5
             },
             "pattern": {
              "fillmode": "overlay",
              "size": 10,
              "solidity": 0.2
             }
            },
            "type": "barpolar"
           }
          ],
          "carpet": [
           {
            "aaxis": {
             "endlinecolor": "#2a3f5f",
             "gridcolor": "white",
             "linecolor": "white",
             "minorgridcolor": "white",
             "startlinecolor": "#2a3f5f"
            },
            "baxis": {
             "endlinecolor": "#2a3f5f",
             "gridcolor": "white",
             "linecolor": "white",
             "minorgridcolor": "white",
             "startlinecolor": "#2a3f5f"
            },
            "type": "carpet"
           }
          ],
          "choropleth": [
           {
            "colorbar": {
             "outlinewidth": 0,
             "ticks": ""
            },
            "type": "choropleth"
           }
          ],
          "contour": [
           {
            "colorbar": {
             "outlinewidth": 0,
             "ticks": ""
            },
            "colorscale": [
             [
              0,
              "#0d0887"
             ],
             [
              0.1111111111111111,
              "#46039f"
             ],
             [
              0.2222222222222222,
              "#7201a8"
             ],
             [
              0.3333333333333333,
              "#9c179e"
             ],
             [
              0.4444444444444444,
              "#bd3786"
             ],
             [
              0.5555555555555556,
              "#d8576b"
             ],
             [
              0.6666666666666666,
              "#ed7953"
             ],
             [
              0.7777777777777778,
              "#fb9f3a"
             ],
             [
              0.8888888888888888,
              "#fdca26"
             ],
             [
              1,
              "#f0f921"
             ]
            ],
            "type": "contour"
           }
          ],
          "contourcarpet": [
           {
            "colorbar": {
             "outlinewidth": 0,
             "ticks": ""
            },
            "type": "contourcarpet"
           }
          ],
          "heatmap": [
           {
            "colorbar": {
             "outlinewidth": 0,
             "ticks": ""
            },
            "colorscale": [
             [
              0,
              "#0d0887"
             ],
             [
              0.1111111111111111,
              "#46039f"
             ],
             [
              0.2222222222222222,
              "#7201a8"
             ],
             [
              0.3333333333333333,
              "#9c179e"
             ],
             [
              0.4444444444444444,
              "#bd3786"
             ],
             [
              0.5555555555555556,
              "#d8576b"
             ],
             [
              0.6666666666666666,
              "#ed7953"
             ],
             [
              0.7777777777777778,
              "#fb9f3a"
             ],
             [
              0.8888888888888888,
              "#fdca26"
             ],
             [
              1,
              "#f0f921"
             ]
            ],
            "type": "heatmap"
           }
          ],
          "histogram": [
           {
            "marker": {
             "pattern": {
              "fillmode": "overlay",
              "size": 10,
              "solidity": 0.2
             }
            },
            "type": "histogram"
           }
          ],
          "histogram2d": [
           {
            "colorbar": {
             "outlinewidth": 0,
             "ticks": ""
            },
            "colorscale": [
             [
              0,
              "#0d0887"
             ],
             [
              0.1111111111111111,
              "#46039f"
             ],
             [
              0.2222222222222222,
              "#7201a8"
             ],
             [
              0.3333333333333333,
              "#9c179e"
             ],
             [
              0.4444444444444444,
              "#bd3786"
             ],
             [
              0.5555555555555556,
              "#d8576b"
             ],
             [
              0.6666666666666666,
              "#ed7953"
             ],
             [
              0.7777777777777778,
              "#fb9f3a"
             ],
             [
              0.8888888888888888,
              "#fdca26"
             ],
             [
              1,
              "#f0f921"
             ]
            ],
            "type": "histogram2d"
           }
          ],
          "histogram2dcontour": [
           {
            "colorbar": {
             "outlinewidth": 0,
             "ticks": ""
            },
            "colorscale": [
             [
              0,
              "#0d0887"
             ],
             [
              0.1111111111111111,
              "#46039f"
             ],
             [
              0.2222222222222222,
              "#7201a8"
             ],
             [
              0.3333333333333333,
              "#9c179e"
             ],
             [
              0.4444444444444444,
              "#bd3786"
             ],
             [
              0.5555555555555556,
              "#d8576b"
             ],
             [
              0.6666666666666666,
              "#ed7953"
             ],
             [
              0.7777777777777778,
              "#fb9f3a"
             ],
             [
              0.8888888888888888,
              "#fdca26"
             ],
             [
              1,
              "#f0f921"
             ]
            ],
            "type": "histogram2dcontour"
           }
          ],
          "mesh3d": [
           {
            "colorbar": {
             "outlinewidth": 0,
             "ticks": ""
            },
            "type": "mesh3d"
           }
          ],
          "parcoords": [
           {
            "line": {
             "colorbar": {
              "outlinewidth": 0,
              "ticks": ""
             }
            },
            "type": "parcoords"
           }
          ],
          "pie": [
           {
            "automargin": true,
            "type": "pie"
           }
          ],
          "scatter": [
           {
            "fillpattern": {
             "fillmode": "overlay",
             "size": 10,
             "solidity": 0.2
            },
            "type": "scatter"
           }
          ],
          "scatter3d": [
           {
            "line": {
             "colorbar": {
              "outlinewidth": 0,
              "ticks": ""
             }
            },
            "marker": {
             "colorbar": {
              "outlinewidth": 0,
              "ticks": ""
             }
            },
            "type": "scatter3d"
           }
          ],
          "scattercarpet": [
           {
            "marker": {
             "colorbar": {
              "outlinewidth": 0,
              "ticks": ""
             }
            },
            "type": "scattercarpet"
           }
          ],
          "scattergeo": [
           {
            "marker": {
             "colorbar": {
              "outlinewidth": 0,
              "ticks": ""
             }
            },
            "type": "scattergeo"
           }
          ],
          "scattergl": [
           {
            "marker": {
             "colorbar": {
              "outlinewidth": 0,
              "ticks": ""
             }
            },
            "type": "scattergl"
           }
          ],
          "scattermap": [
           {
            "marker": {
             "colorbar": {
              "outlinewidth": 0,
              "ticks": ""
             }
            },
            "type": "scattermap"
           }
          ],
          "scattermapbox": [
           {
            "marker": {
             "colorbar": {
              "outlinewidth": 0,
              "ticks": ""
             }
            },
            "type": "scattermapbox"
           }
          ],
          "scatterpolar": [
           {
            "marker": {
             "colorbar": {
              "outlinewidth": 0,
              "ticks": ""
             }
            },
            "type": "scatterpolar"
           }
          ],
          "scatterpolargl": [
           {
            "marker": {
             "colorbar": {
              "outlinewidth": 0,
              "ticks": ""
             }
            },
            "type": "scatterpolargl"
           }
          ],
          "scatterternary": [
           {
            "marker": {
             "colorbar": {
              "outlinewidth": 0,
              "ticks": ""
             }
            },
            "type": "scatterternary"
           }
          ],
          "surface": [
           {
            "colorbar": {
             "outlinewidth": 0,
             "ticks": ""
            },
            "colorscale": [
             [
              0,
              "#0d0887"
             ],
             [
              0.1111111111111111,
              "#46039f"
             ],
             [
              0.2222222222222222,
              "#7201a8"
             ],
             [
              0.3333333333333333,
              "#9c179e"
             ],
             [
              0.4444444444444444,
              "#bd3786"
             ],
             [
              0.5555555555555556,
              "#d8576b"
             ],
             [
              0.6666666666666666,
              "#ed7953"
             ],
             [
              0.7777777777777778,
              "#fb9f3a"
             ],
             [
              0.8888888888888888,
              "#fdca26"
             ],
             [
              1,
              "#f0f921"
             ]
            ],
            "type": "surface"
           }
          ],
          "table": [
           {
            "cells": {
             "fill": {
              "color": "#EBF0F8"
             },
             "line": {
              "color": "white"
             }
            },
            "header": {
             "fill": {
              "color": "#C8D4E3"
             },
             "line": {
              "color": "white"
             }
            },
            "type": "table"
           }
          ]
         },
         "layout": {
          "annotationdefaults": {
           "arrowcolor": "#2a3f5f",
           "arrowhead": 0,
           "arrowwidth": 1
          },
          "autotypenumbers": "strict",
          "coloraxis": {
           "colorbar": {
            "outlinewidth": 0,
            "ticks": ""
           }
          },
          "colorscale": {
           "diverging": [
            [
             0,
             "#8e0152"
            ],
            [
             0.1,
             "#c51b7d"
            ],
            [
             0.2,
             "#de77ae"
            ],
            [
             0.3,
             "#f1b6da"
            ],
            [
             0.4,
             "#fde0ef"
            ],
            [
             0.5,
             "#f7f7f7"
            ],
            [
             0.6,
             "#e6f5d0"
            ],
            [
             0.7,
             "#b8e186"
            ],
            [
             0.8,
             "#7fbc41"
            ],
            [
             0.9,
             "#4d9221"
            ],
            [
             1,
             "#276419"
            ]
           ],
           "sequential": [
            [
             0,
             "#0d0887"
            ],
            [
             0.1111111111111111,
             "#46039f"
            ],
            [
             0.2222222222222222,
             "#7201a8"
            ],
            [
             0.3333333333333333,
             "#9c179e"
            ],
            [
             0.4444444444444444,
             "#bd3786"
            ],
            [
             0.5555555555555556,
             "#d8576b"
            ],
            [
             0.6666666666666666,
             "#ed7953"
            ],
            [
             0.7777777777777778,
             "#fb9f3a"
            ],
            [
             0.8888888888888888,
             "#fdca26"
            ],
            [
             1,
             "#f0f921"
            ]
           ],
           "sequentialminus": [
            [
             0,
             "#0d0887"
            ],
            [
             0.1111111111111111,
             "#46039f"
            ],
            [
             0.2222222222222222,
             "#7201a8"
            ],
            [
             0.3333333333333333,
             "#9c179e"
            ],
            [
             0.4444444444444444,
             "#bd3786"
            ],
            [
             0.5555555555555556,
             "#d8576b"
            ],
            [
             0.6666666666666666,
             "#ed7953"
            ],
            [
             0.7777777777777778,
             "#fb9f3a"
            ],
            [
             0.8888888888888888,
             "#fdca26"
            ],
            [
             1,
             "#f0f921"
            ]
           ]
          },
          "colorway": [
           "#636efa",
           "#EF553B",
           "#00cc96",
           "#ab63fa",
           "#FFA15A",
           "#19d3f3",
           "#FF6692",
           "#B6E880",
           "#FF97FF",
           "#FECB52"
          ],
          "font": {
           "color": "#2a3f5f"
          },
          "geo": {
           "bgcolor": "white",
           "lakecolor": "white",
           "landcolor": "#E5ECF6",
           "showlakes": true,
           "showland": true,
           "subunitcolor": "white"
          },
          "hoverlabel": {
           "align": "left"
          },
          "hovermode": "closest",
          "mapbox": {
           "style": "light"
          },
          "paper_bgcolor": "white",
          "plot_bgcolor": "#E5ECF6",
          "polar": {
           "angularaxis": {
            "gridcolor": "white",
            "linecolor": "white",
            "ticks": ""
           },
           "bgcolor": "#E5ECF6",
           "radialaxis": {
            "gridcolor": "white",
            "linecolor": "white",
            "ticks": ""
           }
          },
          "scene": {
           "xaxis": {
            "backgroundcolor": "#E5ECF6",
            "gridcolor": "white",
            "gridwidth": 2,
            "linecolor": "white",
            "showbackground": true,
            "ticks": "",
            "zerolinecolor": "white"
           },
           "yaxis": {
            "backgroundcolor": "#E5ECF6",
            "gridcolor": "white",
            "gridwidth": 2,
            "linecolor": "white",
            "showbackground": true,
            "ticks": "",
            "zerolinecolor": "white"
           },
           "zaxis": {
            "backgroundcolor": "#E5ECF6",
            "gridcolor": "white",
            "gridwidth": 2,
            "linecolor": "white",
            "showbackground": true,
            "ticks": "",
            "zerolinecolor": "white"
           }
          },
          "shapedefaults": {
           "line": {
            "color": "#2a3f5f"
           }
          },
          "ternary": {
           "aaxis": {
            "gridcolor": "white",
            "linecolor": "white",
            "ticks": ""
           },
           "baxis": {
            "gridcolor": "white",
            "linecolor": "white",
            "ticks": ""
           },
           "bgcolor": "#E5ECF6",
           "caxis": {
            "gridcolor": "white",
            "linecolor": "white",
            "ticks": ""
           }
          },
          "title": {
           "x": 0.05
          },
          "xaxis": {
           "automargin": true,
           "gridcolor": "white",
           "linecolor": "white",
           "ticks": "",
           "title": {
            "standoff": 15
           },
           "zerolinecolor": "white",
           "zerolinewidth": 2
          },
          "yaxis": {
           "automargin": true,
           "gridcolor": "white",
           "linecolor": "white",
           "ticks": "",
           "title": {
            "standoff": 15
           },
           "zerolinecolor": "white",
           "zerolinewidth": 2
          }
         }
        },
        "title": {
         "text": "Accuracy per Output"
        },
        "xaxis": {
         "title": {
          "text": "Epoch"
         }
        },
        "yaxis": {
         "title": {
          "text": "Accuracy"
         }
        }
       }
      }
     },
     "metadata": {},
     "output_type": "display_data"
    }
   ],
   "source": [
    "# Całkowita strata\n",
    "fig_loss_total = go.Figure()\n",
    "fig_loss_total.add_trace(go.Scatter(y=history.history['loss'], mode='lines', name='Train Loss'))\n",
    "fig_loss_total.add_trace(go.Scatter(y=history.history['val_loss'], mode='lines', name='Val Loss'))\n",
    "fig_loss_total.update_layout(title='Total Loss', xaxis_title='Epoch', yaxis_title='Loss')\n",
    "fig_loss_total.show()\n",
    "\n",
    "# Strata per output\n",
    "fig_loss_outputs = go.Figure()\n",
    "fig_loss_outputs.add_trace(go.Scatter(y=history.history['gender_loss'], mode='lines', name='Train Gender Loss'))\n",
    "fig_loss_outputs.add_trace(go.Scatter(y=history.history['val_gender_loss'], mode='lines', name='Val Gender Loss'))\n",
    "fig_loss_outputs.add_trace(go.Scatter(y=history.history['article_loss'], mode='lines', name='Train Article Loss'))\n",
    "fig_loss_outputs.add_trace(go.Scatter(y=history.history['val_article_loss'], mode='lines', name='Val Article Loss'))\n",
    "fig_loss_outputs.update_layout(title='Loss per Output', xaxis_title='Epoch', yaxis_title='Loss')\n",
    "fig_loss_outputs.show()\n",
    "\n",
    "# ACC per output\n",
    "fig_acc = go.Figure()\n",
    "\n",
    "fig_acc.add_trace(go.Scatter(y=history.history['gender_accuracy'], mode='lines', name='Train Gender Accuracy'))\n",
    "fig_acc.add_trace(go.Scatter(y=history.history['val_gender_accuracy'], mode='lines', name='Val Gender Accuracy'))\n",
    "\n",
    "fig_acc.add_trace(go.Scatter(y=history.history['article_accuracy'], mode='lines', name='Train Article Accuracy'))\n",
    "fig_acc.add_trace(go.Scatter(y=history.history['val_article_accuracy'], mode='lines', name='Val Article Accuracy'))\n",
    "\n",
    "fig_acc.update_layout(title='Accuracy per Output', xaxis_title='Epoch', yaxis_title='Accuracy')\n",
    "fig_acc.show()"
   ]
  },
  {
   "cell_type": "code",
   "execution_count": 28,
   "id": "d9c88d0b",
   "metadata": {},
   "outputs": [
    {
     "name": "stdout",
     "output_type": "stream",
     "text": [
      "\u001b[1m218/218\u001b[0m \u001b[32m━━━━━━━━━━━━━━━━━━━━\u001b[0m\u001b[37m\u001b[0m \u001b[1m20s\u001b[0m 92ms/step - article_accuracy: 0.8790 - article_loss: 0.3282 - gender_accuracy: 0.9026 - gender_loss: 0.2749 - loss: 0.6031\n",
      "Wyniki walidacji: [0.6104647517204285, 0.27855417132377625, 0.3320266902446747, 0.8801438808441162, 0.9020143747329712]\n"
     ]
    }
   ],
   "source": [
    "results = model.evaluate(X_val, {\"gender\": y_gender_val, \"article\": y_article_val})\n",
    "print(\"Wyniki walidacji:\", results)"
   ]
  },
  {
   "cell_type": "code",
   "execution_count": 29,
   "id": "3123e00c",
   "metadata": {},
   "outputs": [
    {
     "name": "stdout",
     "output_type": "stream",
     "text": [
      "\u001b[1m218/218\u001b[0m \u001b[32m━━━━━━━━━━━━━━━━━━━━\u001b[0m\u001b[37m\u001b[0m \u001b[1m21s\u001b[0m 95ms/step\n",
      "              precision    recall  f1-score   support\n",
      "\n",
      "         Men       0.89      0.96      0.92      3842\n",
      "      Unisex       0.84      0.40      0.54       328\n",
      "       Women       0.92      0.89      0.90      2780\n",
      "\n",
      "    accuracy                           0.90      6950\n",
      "   macro avg       0.89      0.75      0.79      6950\n",
      "weighted avg       0.90      0.90      0.90      6950\n",
      "\n",
      "                       precision    recall  f1-score   support\n",
      "\n",
      "            Backpacks       0.93      0.96      0.94       132\n",
      "                Belts       0.99      0.97      0.98       153\n",
      "                  Bra       1.00      0.98      0.99        81\n",
      "               Briefs       0.97      0.96      0.96       182\n",
      "         Casual Shoes       0.71      0.87      0.78       566\n",
      "             Earrings       0.96      0.95      0.96        81\n",
      "                Flats       0.41      0.13      0.20        99\n",
      "           Flip Flops       0.74      0.84      0.79       175\n",
      "         Formal Shoes       0.94      0.55      0.70       112\n",
      "             Handbags       0.96      0.96      0.96       369\n",
      "                Heels       0.71      0.80      0.75       266\n",
      "                Jeans       0.73      0.97      0.84       112\n",
      "               Kurtas       0.91      0.95      0.93       388\n",
      "Perfume and Body Mist       0.96      0.94      0.95       125\n",
      "              Sandals       0.89      0.69      0.77       178\n",
      "               Sarees       1.00      0.98      0.99        97\n",
      "               Shirts       0.94      0.90      0.92       616\n",
      "               Shorts       0.93      0.90      0.91       105\n",
      "                Socks       0.97      0.96      0.97       135\n",
      "         Sports Shoes       0.83      0.76      0.79       388\n",
      "           Sunglasses       1.00      0.99      1.00       226\n",
      "                 Tops       0.60      0.82      0.69       302\n",
      "             Trousers       0.99      0.65      0.78       116\n",
      "              Tshirts       0.96      0.89      0.92      1260\n",
      "              Wallets       0.95      0.99      0.97       165\n",
      "              Watches       0.99      0.98      0.99       521\n",
      "\n",
      "             accuracy                           0.88      6950\n",
      "            macro avg       0.88      0.86      0.86      6950\n",
      "         weighted avg       0.89      0.88      0.88      6950\n",
      "\n"
     ]
    }
   ],
   "source": [
    "y_pred_gender, y_pred_article = model.predict(X_val)\n",
    "\n",
    "y_pred_gender_classes = np.argmax(y_pred_gender, axis=1)\n",
    "y_pred_article_classes = np.argmax(y_pred_article, axis=1)\n",
    "\n",
    "print(classification_report(\n",
    "    y_gender_val,\n",
    "    y_pred_gender_classes,\n",
    "    target_names=gender_encoder.classes_\n",
    "))\n",
    "\n",
    "print(classification_report(\n",
    "    y_article_val,\n",
    "    y_pred_article_classes,\n",
    "    target_names=article_encoder.classes_\n",
    "))"
   ]
  },
  {
   "cell_type": "code",
   "execution_count": 30,
   "id": "f4337085",
   "metadata": {},
   "outputs": [],
   "source": [
    "# Mapowanie labeli do nazwa ArticleType\n",
    "#labels = df['label'].values \n",
    "#label_mapping = dict(enumerate(df['articleType'].astype('category').cat.categories))\n",
    "#print(label_mapping)"
   ]
  },
  {
   "cell_type": "code",
   "execution_count": 31,
   "id": "1ef639d6",
   "metadata": {},
   "outputs": [
    {
     "name": "stdout",
     "output_type": "stream",
     "text": [
      "{0: 'Backpacks', 1: 'Belts', 2: 'Bra', 3: 'Briefs', 4: 'Casual Shoes', 5: 'Earrings', 6: 'Flats', 7: 'Flip Flops', 8: 'Formal Shoes', 9: 'Handbags', 10: 'Heels', 11: 'Jeans', 12: 'Kurtas', 13: 'Perfume and Body Mist', 14: 'Sandals', 15: 'Sarees', 16: 'Shirts', 17: 'Shorts', 18: 'Socks', 19: 'Sports Shoes', 20: 'Sunglasses', 21: 'Tops', 22: 'Trousers', 23: 'Tshirts', 24: 'Wallets', 25: 'Watches'}\n",
      "{0: 'Men', 1: 'Unisex', 2: 'Women'}\n"
     ]
    }
   ],
   "source": [
    "df['label'] = df['articleType'].astype('category').cat.codes\n",
    "label_mapping = dict(enumerate(df['articleType'].astype('category').cat.categories))\n",
    "print(label_mapping)\n",
    "\n",
    "label_mapping_gender = dict(enumerate(df['gender'].astype('category').cat.categories))\n",
    "print(label_mapping_gender)"
   ]
  },
  {
   "cell_type": "code",
   "execution_count": 32,
   "id": "35c43957",
   "metadata": {},
   "outputs": [
    {
     "name": "stdout",
     "output_type": "stream",
     "text": [
      "\u001b[1m1/1\u001b[0m \u001b[32m━━━━━━━━━━━━━━━━━━━━\u001b[0m\u001b[37m\u001b[0m \u001b[1m0s\u001b[0m 30ms/step\n",
      "Predykcja dla obrazu ../images/2208.jpg:\n",
      "Gender: Men (klasa 0)\n",
      "Article Type: Casual Shoes (klasa 4)\n",
      "[[0.9076091  0.08320389 0.00918694]]\n"
     ]
    }
   ],
   "source": [
    "image_path = os.path.join(images_path, '2208.jpg')\n",
    "\n",
    "image_array = preprocess_image(image_path, target_size=(128, 128))\n",
    "image_array = np.expand_dims(image_array, axis=0)  # (1, 128, 128, 3)\n",
    "\n",
    "pred_gender, pred_article = model.predict(image_array)\n",
    "\n",
    "pred_gender_class = np.argmax(pred_gender, axis=1)[0]\n",
    "pred_article_class = np.argmax(pred_article, axis=1)[0]\n",
    "\n",
    "pred_gender_label = gender_encoder.inverse_transform([pred_gender_class])[0]\n",
    "pred_article_label = article_encoder.inverse_transform([pred_article_class])[0]\n",
    "\n",
    "print(f\"Predykcja dla obrazu {image_path}:\")\n",
    "print(f\"Gender: {pred_gender_label} (klasa {pred_gender_class})\")\n",
    "print(f\"Article Type: {pred_article_label} (klasa {pred_article_class})\")\n",
    "print(pred_gender)"
   ]
  },
  {
   "cell_type": "code",
   "execution_count": 33,
   "id": "9cd14766",
   "metadata": {},
   "outputs": [
    {
     "data": {
      "image/png": "[encoded data removed]",
      "text/plain": [
       "<Figure size 400x400 with 1 Axes>"
      ]
     },
     "metadata": {},
     "output_type": "display_data"
    }
   ],
   "source": [
    "plt.figure(figsize=(4, 4))\n",
    "img_display = load_img(image_path, target_size=(128, 128))\n",
    "plt.imshow(img_display)\n",
    "plt.axis('off')\n",
    "plt.tight_layout()\n",
    "plt.show()"
   ]
  },
  {
   "cell_type": "markdown",
   "id": "c0c784f5",
   "metadata": {},
   "source": []
  },
  {
   "cell_type": "code",
   "execution_count": 34,
   "id": "3bd5d2a9",
   "metadata": {},
   "outputs": [
    {
     "name": "stdout",
     "output_type": "stream",
     "text": [
      "y_article_val shape: (6950,)\n",
      "y_pred_article_classes shape: (6950,)\n",
      "Unikalne etykiety y_article_val: [ 0  1  2  3  4  5  6  7  8  9 10 11 12 13 14 15 16 17 18 19 20 21 22 23\n",
      " 24 25]\n",
      "Unikalne etykiety y_pred_article_classes: [ 0  1  2  3  4  5  6  7  8  9 10 11 12 13 14 15 16 17 18 19 20 21 22 23\n",
      " 24 25]\n"
     ]
    }
   ],
   "source": [
    "print(\"y_article_val shape:\", y_article_val.shape)\n",
    "print(\"y_pred_article_classes shape:\", y_pred_article_classes.shape)\n",
    "\n",
    "print(\"Unikalne etykiety y_article_val:\", np.unique(y_article_val))\n",
    "print(\"Unikalne etykiety y_pred_article_classes:\", np.unique(y_pred_article_classes))\n"
   ]
  },
  {
   "cell_type": "code",
   "execution_count": 35,
   "id": "f81290bb",
   "metadata": {},
   "outputs": [
    {
     "data": {
      "image/png": "[encoded data removed]",
      "text/plain": [
       "<Figure size 1200x1000 with 2 Axes>"
      ]
     },
     "metadata": {},
     "output_type": "display_data"
    }
   ],
   "source": [
    "y_pred_article_classes = np.argmax(y_pred_article, axis=1)\n",
    "\n",
    "cm = confusion_matrix(y_article_val, y_pred_article_classes)\n",
    "\n",
    "disp = ConfusionMatrixDisplay(confusion_matrix=cm)#, display_labels=article_encoder.classes_)\n",
    "disp.plot(cmap=plt.cm.Blues)\n",
    "disp.figure_.set_size_inches(12, 10)\n",
    "plt.title('Confusion Matrix for ArticleType')\n",
    "plt.show()"
   ]
  },
  {
   "cell_type": "code",
   "execution_count": 36,
   "id": "393e2d9b",
   "metadata": {},
   "outputs": [
    {
     "data": {
      "image/png": "[encoded data removed]",
      "text/plain": [
       "<Figure size 1200x1000 with 2 Axes>"
      ]
     },
     "metadata": {},
     "output_type": "display_data"
    }
   ],
   "source": [
    "y_pred_gender_classes = np.argmax(y_pred_gender, axis=1)\n",
    "\n",
    "cm = confusion_matrix(y_gender_val, y_pred_gender_classes)\n",
    "\n",
    "disp = ConfusionMatrixDisplay(confusion_matrix=cm)#, display_labels=article_encoder.classes_)\n",
    "disp.plot(cmap=plt.cm.Blues)\n",
    "disp.figure_.set_size_inches(12, 10)\n",
    "plt.title('Confusion Matrix for Gender')\n",
    "plt.show()"
   ]
  },
  {
   "cell_type": "code",
   "execution_count": null,
   "id": "25dfcf0e",
   "metadata": {},
   "outputs": [],
   "source": [
    "#model.save('../backend/best_model.keras')"
   ]
  }
 ],
 "metadata": {
  "kernelspec": {
   "display_name": ".venv",
   "language": "python",
   "name": "python3"
  },
  "language_info": {
   "codemirror_mode": {
    "name": "ipython",
    "version": 3
   },
   "file_extension": ".py",
   "mimetype": "text/x-python",
   "name": "python",
   "nbconvert_exporter": "python",
   "pygments_lexer": "ipython3",
   "version": "3.11.0"
  }
 },
 "nbformat": 4,
 "nbformat_minor": 5
}
